{
 "cells": [
  {
   "cell_type": "code",
   "execution_count": 8,
   "metadata": {},
   "outputs": [],
   "source": [
    "import pandas as pd\n",
    "import numpy as np\n",
    "import datetime\n",
    "\n",
    "import re"
   ]
  },
  {
   "cell_type": "code",
   "execution_count": 105,
   "metadata": {},
   "outputs": [],
   "source": [
    "df = pd.read_csv('tripadvisor.csv')"
   ]
  },
  {
   "cell_type": "code",
   "execution_count": 106,
   "metadata": {},
   "outputs": [
    {
     "data": {
      "text/html": [
       "<div>\n",
       "<style scoped>\n",
       "    .dataframe tbody tr th:only-of-type {\n",
       "        vertical-align: middle;\n",
       "    }\n",
       "\n",
       "    .dataframe tbody tr th {\n",
       "        vertical-align: top;\n",
       "    }\n",
       "\n",
       "    .dataframe thead th {\n",
       "        text-align: right;\n",
       "    }\n",
       "</style>\n",
       "<table border=\"1\" class=\"dataframe\">\n",
       "  <thead>\n",
       "    <tr style=\"text-align: right;\">\n",
       "      <th></th>\n",
       "      <th>Title</th>\n",
       "      <th>Review</th>\n",
       "      <th>Date</th>\n",
       "      <th>Rating</th>\n",
       "    </tr>\n",
       "  </thead>\n",
       "  <tbody>\n",
       "    <tr>\n",
       "      <th>0</th>\n",
       "      <td>All ok except the cost of parking</td>\n",
       "      <td>We had a budget 2 night stay and its a well se...</td>\n",
       "      <td>Date of stay: April 2016</td>\n",
       "      <td>&lt;span class=\"ui_bubble_rating bubble_40\"&gt;&lt;/span&gt;</td>\n",
       "    </tr>\n",
       "    <tr>\n",
       "      <th>1</th>\n",
       "      <td>Bad experience overall</td>\n",
       "      <td>I had the worse experience ever. The furniture...</td>\n",
       "      <td>Date of stay: April 2016</td>\n",
       "      <td>&lt;span class=\"ui_bubble_rating bubble_20\"&gt;&lt;/span&gt;</td>\n",
       "    </tr>\n",
       "    <tr>\n",
       "      <th>2</th>\n",
       "      <td>Better than expected</td>\n",
       "      <td>stayed as part of a national coach trip ,pleas...</td>\n",
       "      <td>Date of stay: April 2016</td>\n",
       "      <td>&lt;span class=\"ui_bubble_rating bubble_40\"&gt;&lt;/span&gt;</td>\n",
       "    </tr>\n",
       "    <tr>\n",
       "      <th>3</th>\n",
       "      <td>Dismal</td>\n",
       "      <td>I booked a double room six months in advance o...</td>\n",
       "      <td>Date of stay: April 2016</td>\n",
       "      <td>&lt;span class=\"ui_bubble_rating bubble_10\"&gt;&lt;/span&gt;</td>\n",
       "    </tr>\n",
       "    <tr>\n",
       "      <th>4</th>\n",
       "      <td>Good value for weekend break</td>\n",
       "      <td>Service was very good, room was large and comf...</td>\n",
       "      <td>Date of stay: April 2016</td>\n",
       "      <td>&lt;span class=\"ui_bubble_rating bubble_40\"&gt;&lt;/span&gt;</td>\n",
       "    </tr>\n",
       "  </tbody>\n",
       "</table>\n",
       "</div>"
      ],
      "text/plain": [
       "                               Title  \\\n",
       "0  All ok except the cost of parking   \n",
       "1             Bad experience overall   \n",
       "2               Better than expected   \n",
       "3                             Dismal   \n",
       "4       Good value for weekend break   \n",
       "\n",
       "                                              Review  \\\n",
       "0  We had a budget 2 night stay and its a well se...   \n",
       "1  I had the worse experience ever. The furniture...   \n",
       "2  stayed as part of a national coach trip ,pleas...   \n",
       "3  I booked a double room six months in advance o...   \n",
       "4  Service was very good, room was large and comf...   \n",
       "\n",
       "                       Date                                            Rating  \n",
       "0  Date of stay: April 2016  <span class=\"ui_bubble_rating bubble_40\"></span>  \n",
       "1  Date of stay: April 2016  <span class=\"ui_bubble_rating bubble_20\"></span>  \n",
       "2  Date of stay: April 2016  <span class=\"ui_bubble_rating bubble_40\"></span>  \n",
       "3  Date of stay: April 2016  <span class=\"ui_bubble_rating bubble_10\"></span>  \n",
       "4  Date of stay: April 2016  <span class=\"ui_bubble_rating bubble_40\"></span>  "
      ]
     },
     "execution_count": 106,
     "metadata": {},
     "output_type": "execute_result"
    }
   ],
   "source": [
    "df.head()"
   ]
  },
  {
   "cell_type": "code",
   "execution_count": 108,
   "metadata": {},
   "outputs": [
    {
     "name": "stdout",
     "output_type": "stream",
     "text": [
      "<class 'pandas.core.frame.DataFrame'>\n",
      "RangeIndex: 1656 entries, 0 to 1655\n",
      "Data columns (total 4 columns):\n",
      "Title     1656 non-null object\n",
      "Review    1656 non-null object\n",
      "Date      1650 non-null object\n",
      "Rating    1656 non-null object\n",
      "dtypes: object(4)\n",
      "memory usage: 51.9+ KB\n"
     ]
    }
   ],
   "source": [
    "df.info()"
   ]
  },
  {
   "cell_type": "code",
   "execution_count": 109,
   "metadata": {},
   "outputs": [
    {
     "data": {
      "text/plain": [
       "Title     0\n",
       "Review    0\n",
       "Date      0\n",
       "Rating    0\n",
       "dtype: int64"
      ]
     },
     "execution_count": 109,
     "metadata": {},
     "output_type": "execute_result"
    }
   ],
   "source": [
    "#remove nan rows (6 rows with no date)\n",
    "df = df.dropna()\n",
    "\n",
    "df.isna().sum()"
   ]
  },
  {
   "cell_type": "code",
   "execution_count": 147,
   "metadata": {},
   "outputs": [],
   "source": [
    "df_test = df.copy()\n",
    "\n",
    "#combine Title and Review\n",
    "df_test['Review'] = df_test['Title'] + ' ' + df_test['Review']\n",
    "df_test['Review'] = df_test['Review'].astype(str)\n",
    "df_test = df_test.drop(columns='Title')\n",
    "\n",
    "#extract date\n",
    "def date_process(text):\n",
    "    return re.sub(r\"Date of stay:\", \"\", text)\n",
    "\n",
    "def remove_whitespace(text):\n",
    "    return \" \".join(text.split())\n",
    "\n",
    "df_test['Date'] = df_test['Date'].astype(str)\n",
    "df_test['Date'] = df_test['Date'].apply(date_process)\n",
    "df_test['Date'] = df_test['Date'].apply(remove_whitespace)\n",
    "\n",
    "#extract rating\n",
    "def rating_process(text):\n",
    "    numeric_filter = filter(str.isdigit, text)\n",
    "    numeric_string = \"\".join(numeric_filter)\n",
    "    return numeric_string\n",
    "\n",
    "df_test['Rating'] = df_test['Rating'].apply(rating_process)\n",
    "df_test['Rating'] = df_test['Rating'].astype(int)"
   ]
  },
  {
   "cell_type": "code",
   "execution_count": 159,
   "metadata": {},
   "outputs": [],
   "source": [
    "#classify into positive=1 for rating >= 40, 0 otherwise\n",
    "df_test['Positive'] = np.where(df_test['Rating'] >= 40, 1, 0)"
   ]
  },
  {
   "cell_type": "code",
   "execution_count": 161,
   "metadata": {},
   "outputs": [
    {
     "data": {
      "text/html": [
       "<div>\n",
       "<style scoped>\n",
       "    .dataframe tbody tr th:only-of-type {\n",
       "        vertical-align: middle;\n",
       "    }\n",
       "\n",
       "    .dataframe tbody tr th {\n",
       "        vertical-align: top;\n",
       "    }\n",
       "\n",
       "    .dataframe thead th {\n",
       "        text-align: right;\n",
       "    }\n",
       "</style>\n",
       "<table border=\"1\" class=\"dataframe\">\n",
       "  <thead>\n",
       "    <tr style=\"text-align: right;\">\n",
       "      <th></th>\n",
       "      <th>Review</th>\n",
       "      <th>Date</th>\n",
       "      <th>Rating</th>\n",
       "      <th>Positive</th>\n",
       "    </tr>\n",
       "  </thead>\n",
       "  <tbody>\n",
       "    <tr>\n",
       "      <th>0</th>\n",
       "      <td>All ok except the cost of parking We had a bud...</td>\n",
       "      <td>April 2016</td>\n",
       "      <td>40</td>\n",
       "      <td>1</td>\n",
       "    </tr>\n",
       "    <tr>\n",
       "      <th>1</th>\n",
       "      <td>Bad experience overall I had the worse experie...</td>\n",
       "      <td>April 2016</td>\n",
       "      <td>20</td>\n",
       "      <td>0</td>\n",
       "    </tr>\n",
       "    <tr>\n",
       "      <th>2</th>\n",
       "      <td>Better than expected stayed as part of a natio...</td>\n",
       "      <td>April 2016</td>\n",
       "      <td>40</td>\n",
       "      <td>1</td>\n",
       "    </tr>\n",
       "    <tr>\n",
       "      <th>3</th>\n",
       "      <td>Dismal I booked a double room six months in ad...</td>\n",
       "      <td>April 2016</td>\n",
       "      <td>10</td>\n",
       "      <td>0</td>\n",
       "    </tr>\n",
       "    <tr>\n",
       "      <th>4</th>\n",
       "      <td>Good value for weekend break Service was very ...</td>\n",
       "      <td>April 2016</td>\n",
       "      <td>40</td>\n",
       "      <td>1</td>\n",
       "    </tr>\n",
       "  </tbody>\n",
       "</table>\n",
       "</div>"
      ],
      "text/plain": [
       "                                              Review        Date  Rating  \\\n",
       "0  All ok except the cost of parking We had a bud...  April 2016      40   \n",
       "1  Bad experience overall I had the worse experie...  April 2016      20   \n",
       "2  Better than expected stayed as part of a natio...  April 2016      40   \n",
       "3  Dismal I booked a double room six months in ad...  April 2016      10   \n",
       "4  Good value for weekend break Service was very ...  April 2016      40   \n",
       "\n",
       "   Positive  \n",
       "0         1  \n",
       "1         0  \n",
       "2         1  \n",
       "3         0  \n",
       "4         1  "
      ]
     },
     "execution_count": 161,
     "metadata": {},
     "output_type": "execute_result"
    }
   ],
   "source": [
    "df_test.head()"
   ]
  },
  {
   "cell_type": "code",
   "execution_count": 163,
   "metadata": {},
   "outputs": [],
   "source": [
    "df_test.to_csv('tripadvisor_processed.csv', header=True, index=False)"
   ]
  }
 ],
 "metadata": {
  "kernelspec": {
   "display_name": "Python 3",
   "language": "python",
   "name": "python3"
  },
  "language_info": {
   "codemirror_mode": {
    "name": "ipython",
    "version": 3
   },
   "file_extension": ".py",
   "mimetype": "text/x-python",
   "name": "python",
   "nbconvert_exporter": "python",
   "pygments_lexer": "ipython3",
   "version": "3.7.9"
  }
 },
 "nbformat": 4,
 "nbformat_minor": 4
}
