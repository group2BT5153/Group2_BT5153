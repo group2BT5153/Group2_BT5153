{
 "cells": [
  {
   "cell_type": "markdown",
   "metadata": {},
   "source": [
    "# Library Loading"
   ]
  },
  {
   "cell_type": "code",
   "execution_count": 1,
   "metadata": {},
   "outputs": [],
   "source": [
    "#Core\n",
    "import pandas as pd\n",
    "import numpy as np\n",
    "\n",
    "#Language Detection\n",
    "from langdetect import detect\n",
    "\n",
    "#Noise Removal\n",
    "import string\n",
    "import re\n",
    "import contractions\n",
    "import nltk\n",
    "from nltk.corpus import stopwords\n",
    "from nltk.stem.wordnet import WordNetLemmatizer\n",
    "\n",
    "#display adjust\n",
    "pd.set_option(\"display.max_columns\", 1000)\n",
    "pd.set_option(\"display.max_rows\", 1000)\n",
    "import warnings\n",
    "warnings.filterwarnings(\"ignore\")"
   ]
  },
  {
   "cell_type": "code",
   "execution_count": 2,
   "metadata": {},
   "outputs": [],
   "source": [
    "stop_words = stopwords.words('english')\n",
    "lemmatizer = WordNetLemmatizer() "
   ]
  },
  {
   "cell_type": "markdown",
   "metadata": {},
   "source": [
    "# Input Path"
   ]
  },
  {
   "cell_type": "code",
   "execution_count": 3,
   "metadata": {},
   "outputs": [],
   "source": [
    "hotel_name = 'Britannia International Hotel Canary Wharf'"
   ]
  },
  {
   "cell_type": "code",
   "execution_count": 4,
   "metadata": {},
   "outputs": [],
   "source": [
    "data_kaggle = \"Hotel_Reviews_Kaggle.csv\"\n",
    "data_booking = \"Britannia International Hotel Canary Wharf.csv\"\n",
    "data_tripadvisor = 'tripadvisor_processed.csv'"
   ]
  },
  {
   "cell_type": "markdown",
   "metadata": {},
   "source": [
    "# Data Loading"
   ]
  },
  {
   "cell_type": "code",
   "execution_count": 5,
   "metadata": {},
   "outputs": [],
   "source": [
    "df_kaggle = pd.read_csv(data_kaggle)\n",
    "df_booking = pd.read_csv(data_booking)\n",
    "df_tripadvisor = pd.read_csv(data_tripadvisor)"
   ]
  },
  {
   "cell_type": "code",
   "execution_count": 6,
   "metadata": {},
   "outputs": [],
   "source": [
    "df_kaggle = df_kaggle[df_kaggle.Hotel_Name == hotel_name]\n",
    "df_kaggle.reset_index(inplace = True, drop = True)"
   ]
  },
  {
   "cell_type": "markdown",
   "metadata": {},
   "source": [
    "# Customized Cleaning"
   ]
  },
  {
   "cell_type": "code",
   "execution_count": 7,
   "metadata": {},
   "outputs": [],
   "source": [
    "#No Negativity"
   ]
  },
  {
   "cell_type": "code",
   "execution_count": 8,
   "metadata": {},
   "outputs": [],
   "source": [
    "terms = [\"There are no comments available for this review\",\n",
    "         \"Not Available\",\n",
    "         \"No comments\",\n",
    "         \"Nothing to comment on here.\",\n",
    "         \"No comment at this time.\",\n",
    "         \"No comments\",\n",
    "         \"This review is hidden because it doesn't meet our guidelines.\",\n",
    "         \"I had no complaints\",\n",
    "         \"No Negativity\"]"
   ]
  },
  {
   "cell_type": "code",
   "execution_count": 9,
   "metadata": {},
   "outputs": [],
   "source": [
    "for term in terms:\n",
    "    df_booking['Negative'] = np.where((df_booking['Negative'] == term),None,df_booking['Negative'] )\n",
    "    df_booking['Positive'] = np.where((df_booking['Positive'] == term),None,df_booking['Positive'] )\n",
    "    \n",
    "    df_kaggle['Negative_Review'] = np.where((df_kaggle['Negative_Review'] == term),None,df_kaggle['Negative_Review'] )\n",
    "    df_kaggle['Positive_Review'] = np.where((df_kaggle['Positive_Review'] == term),None,df_kaggle['Positive_Review'] )\n",
    "    \n",
    "    df_tripadvisor['Review'] = np.where((df_tripadvisor['Review'] == term),None,df_tripadvisor['Review'] )\n"
   ]
  },
  {
   "cell_type": "code",
   "execution_count": 10,
   "metadata": {},
   "outputs": [],
   "source": [
    "#stopword customization\n",
    "\n",
    "lang_stopwords = stopwords.words('english')\n",
    "\n",
    "#add words that aren't in the NLTK stopwords list\n",
    "#new_stopwords = []\n",
    "#lang_stopwords = lang_stopwords.union(new_stopwords)\n",
    "\n",
    "#remove words that are in NLTK stopwords list\n",
    "not_stopwords = {'not'} \n",
    "lang_stopwords = set([word for word in lang_stopwords if word not in not_stopwords])\n"
   ]
  },
  {
   "cell_type": "markdown",
   "metadata": {},
   "source": [
    "# Language Detection"
   ]
  },
  {
   "cell_type": "code",
   "execution_count": 11,
   "metadata": {},
   "outputs": [],
   "source": [
    "#Scan Through Negative\n",
    "for i in range(len(df_kaggle)):\n",
    "    try:\n",
    "        if detect(df_kaggle.Negative_Review[i]) != 'en':\n",
    "            df_kaggle.drop(i,inplace = True)\n",
    "    except:\n",
    "        pass\n",
    "df_kaggle.reset_index(drop = True,inplace = True)       \n",
    "\n",
    "#Scan Through Positve\n",
    "for i in range(len(df_kaggle)):\n",
    "    try:\n",
    "        if detect(df_kaggle.Positive_Review[i]) != 'en':\n",
    "            df_kaggle.drop(i,inplace = True)\n",
    "    except:\n",
    "        pass\n",
    "\n",
    "df_kaggle.reset_index(drop = True,inplace = True)"
   ]
  },
  {
   "cell_type": "code",
   "execution_count": 12,
   "metadata": {},
   "outputs": [],
   "source": [
    "#Scan Through Positve\n",
    "for i in range(len(df_booking)):\n",
    "    try:\n",
    "        if detect(df_booking.Positive_Review[i]) != 'en':\n",
    "            df_booking.drop(i,inplace = True)\n",
    "    except:\n",
    "        pass\n",
    "\n",
    "df_booking.reset_index(drop = True,inplace = True)\n",
    "\n",
    "#Scan Through Negative\n",
    "for i in range(len(df_booking)):\n",
    "    try:\n",
    "        if detect(df_booking.Negative[i]) != 'en':\n",
    "            df_booking.drop(i,inplace = True)\n",
    "    except:\n",
    "        pass\n",
    "\n",
    "df_booking.reset_index(drop = True,inplace = True)     "
   ]
  },
  {
   "cell_type": "markdown",
   "metadata": {},
   "source": [
    "# Bulk Cleaning"
   ]
  },
  {
   "cell_type": "code",
   "execution_count": 13,
   "metadata": {},
   "outputs": [],
   "source": [
    "def text_tokenized(text):\n",
    "    return nltk.word_tokenize(text)\n",
    "\n",
    "def noise_removal(each_row):\n",
    "    if each_row != None:\n",
    "        try:\n",
    "            each_row = each_row.lower() #convert words to lowercase\n",
    "            each_row = re.sub(r'\\d+', '', each_row) #remove_numbers\n",
    "            each_row = re.sub(r'[^a-zA-z0-9.,!?/:;\\\"\\'\\s]' , '', each_row) #remove special character\n",
    "            each_row = \" \".join([contractions.fix(word) for word in each_row.split()]) #expand contraction\n",
    "            each_row = each_row.translate(str.maketrans(' ', ' ', string.punctuation)) #remove puntuation\n",
    "            each_row = \" \".join(each_row.split()) #remove whitespace\n",
    "\n",
    "            #all tasks that requires tokenization first\n",
    "            each_row = text_tokenized(each_row)\n",
    "            each_row = [lemmatizer.lemmatize(w, \"v\") for w in each_row] #lemmmatization\n",
    "            each_row = [w for w in each_row if w not in lang_stopwords] #stopwords removal\n",
    "            each_row = \" \".join(each_row)\n",
    "        except:\n",
    "            pass\n",
    "    return each_row"
   ]
  },
  {
   "cell_type": "markdown",
   "metadata": {},
   "source": [
    "## Applying"
   ]
  },
  {
   "cell_type": "code",
   "execution_count": 14,
   "metadata": {},
   "outputs": [],
   "source": [
    "df_kaggle['Cleaned_Negative_Review'] = df_kaggle['Negative_Review'].apply(noise_removal)\n",
    "df_kaggle['Cleaned_Positive_Review'] = df_kaggle['Positive_Review'].apply(noise_removal)"
   ]
  },
  {
   "cell_type": "code",
   "execution_count": 15,
   "metadata": {},
   "outputs": [],
   "source": [
    "df_booking['Cleaned_Negative'] = df_booking['Negative'].apply(noise_removal)\n",
    "df_booking['Cleaned_Positive'] = df_booking['Positive'].apply(noise_removal)"
   ]
  },
  {
   "cell_type": "code",
   "execution_count": 16,
   "metadata": {},
   "outputs": [],
   "source": [
    "df_tripadvisor['Cleaned_Review'] = df_tripadvisor['Review'].apply(noise_removal)"
   ]
  },
  {
   "cell_type": "markdown",
   "metadata": {},
   "source": [
    "## Save Data for Word Cloud"
   ]
  },
  {
   "cell_type": "code",
   "execution_count": 17,
   "metadata": {},
   "outputs": [],
   "source": [
    "df_kaggle.to_csv('Britannia_Kaggle.csv')\n",
    "df_booking.to_csv('Britannia_Booking.csv')\n",
    "df_tripadvisor.to_csv('Britannia_Tripadvisor.csv')"
   ]
  },
  {
   "cell_type": "markdown",
   "metadata": {},
   "source": [
    "## Merge and Truncate columns for Model"
   ]
  },
  {
   "cell_type": "markdown",
   "metadata": {},
   "source": [
    "```\n",
    "Column Category:\n",
    "1 = Positive\n",
    "0 = Negative\n",
    "```"
   ]
  },
  {
   "cell_type": "markdown",
   "metadata": {},
   "source": [
    "# df_tripadvisor"
   ]
  },
  {
   "cell_type": "code",
   "execution_count": 18,
   "metadata": {},
   "outputs": [
    {
     "data": {
      "text/html": [
       "<div>\n",
       "<style scoped>\n",
       "    .dataframe tbody tr th:only-of-type {\n",
       "        vertical-align: middle;\n",
       "    }\n",
       "\n",
       "    .dataframe tbody tr th {\n",
       "        vertical-align: top;\n",
       "    }\n",
       "\n",
       "    .dataframe thead th {\n",
       "        text-align: right;\n",
       "    }\n",
       "</style>\n",
       "<table border=\"1\" class=\"dataframe\">\n",
       "  <thead>\n",
       "    <tr style=\"text-align: right;\">\n",
       "      <th></th>\n",
       "      <th>Review</th>\n",
       "      <th>Category</th>\n",
       "      <th>Cleaned_Review</th>\n",
       "    </tr>\n",
       "  </thead>\n",
       "  <tbody>\n",
       "    <tr>\n",
       "      <th>0</th>\n",
       "      <td>All ok except the cost of parking We had a bud...</td>\n",
       "      <td>1</td>\n",
       "      <td>ok except cost park budget night stay well set...</td>\n",
       "    </tr>\n",
       "    <tr>\n",
       "      <th>1</th>\n",
       "      <td>Bad experience overall I had the worse experie...</td>\n",
       "      <td>0</td>\n",
       "      <td>bad experience overall worse experience ever f...</td>\n",
       "    </tr>\n",
       "    <tr>\n",
       "      <th>2</th>\n",
       "      <td>Better than expected stayed as part of a natio...</td>\n",
       "      <td>1</td>\n",
       "      <td>better expect stay part national coach trip pl...</td>\n",
       "    </tr>\n",
       "  </tbody>\n",
       "</table>\n",
       "</div>"
      ],
      "text/plain": [
       "                                              Review  Category  \\\n",
       "0  All ok except the cost of parking We had a bud...         1   \n",
       "1  Bad experience overall I had the worse experie...         0   \n",
       "2  Better than expected stayed as part of a natio...         1   \n",
       "\n",
       "                                      Cleaned_Review  \n",
       "0  ok except cost park budget night stay well set...  \n",
       "1  bad experience overall worse experience ever f...  \n",
       "2  better expect stay part national coach trip pl...  "
      ]
     },
     "execution_count": 18,
     "metadata": {},
     "output_type": "execute_result"
    }
   ],
   "source": [
    "df_tripadvisor.rename(columns = {'Positive':'Category'},inplace = True)\n",
    "df_tripadvisor.drop(columns=['Date','Rating'],axis=1,inplace=True)\n",
    "df_tripadvisor.head(3)"
   ]
  },
  {
   "cell_type": "markdown",
   "metadata": {},
   "source": [
    "# df_kaggle"
   ]
  },
  {
   "cell_type": "code",
   "execution_count": 19,
   "metadata": {},
   "outputs": [],
   "source": [
    "df_kaggle.drop(columns=['Hotel_Address', \n",
    "                        'Additional_Number_of_Scoring', \n",
    "                        'Review_Date',\n",
    "                        'Average_Score', \n",
    "                        'Hotel_Name', \n",
    "                        'Reviewer_Nationality',\n",
    "                        'Review_Total_Negative_Word_Counts',\n",
    "                        'Total_Number_of_Reviews', \n",
    "                        'Review_Total_Positive_Word_Counts',\n",
    "                        'Total_Number_of_Reviews_Reviewer_Has_Given', \n",
    "                        'Reviewer_Score', \n",
    "                        'Tags',\n",
    "                        'days_since_review',\n",
    "                        'lat', \n",
    "                        'lng'],axis=1,inplace=True)"
   ]
  },
  {
   "cell_type": "code",
   "execution_count": 20,
   "metadata": {},
   "outputs": [],
   "source": [
    "df1 = df_kaggle.copy() #set to contain only positive => drop Neg column => category column = 1\n",
    "df2 = df_kaggle.copy() #set to contain only negative => drop Pos column => category column = 0\n",
    "\n",
    "df1.drop(columns=['Negative_Review','Cleaned_Negative_Review'],axis=1,inplace=True)\n",
    "df2.drop(columns=['Positive_Review','Cleaned_Positive_Review'],axis=1,inplace=True)\n",
    "\n",
    "df1['Category'] = 1\n",
    "df2['Category'] = 0\n",
    "\n",
    "df1.rename(columns = {'Positive_Review':'Review'}, inplace = True)\n",
    "df1.rename(columns = {'Cleaned_Positive_Review':'Cleaned_Review'}, inplace = True)\n",
    "\n",
    "df2.rename(columns = {'Negative_Review':'Review'}, inplace = True)\n",
    "df2.rename(columns = {'Cleaned_Negative_Review':'Cleaned_Review'}, inplace = True)\n",
    "\n",
    "df_kaggle_merge = pd.concat([df1, df2],ignore_index = True)"
   ]
  },
  {
   "cell_type": "code",
   "execution_count": 21,
   "metadata": {},
   "outputs": [
    {
     "data": {
      "text/html": [
       "<div>\n",
       "<style scoped>\n",
       "    .dataframe tbody tr th:only-of-type {\n",
       "        vertical-align: middle;\n",
       "    }\n",
       "\n",
       "    .dataframe tbody tr th {\n",
       "        vertical-align: top;\n",
       "    }\n",
       "\n",
       "    .dataframe thead th {\n",
       "        text-align: right;\n",
       "    }\n",
       "</style>\n",
       "<table border=\"1\" class=\"dataframe\">\n",
       "  <thead>\n",
       "    <tr style=\"text-align: right;\">\n",
       "      <th></th>\n",
       "      <th>Review</th>\n",
       "      <th>Cleaned_Review</th>\n",
       "      <th>Category</th>\n",
       "    </tr>\n",
       "  </thead>\n",
       "  <tbody>\n",
       "    <tr>\n",
       "      <th>7267</th>\n",
       "      <td>I had no complaints</td>\n",
       "      <td>complaints</td>\n",
       "      <td>0</td>\n",
       "    </tr>\n",
       "    <tr>\n",
       "      <th>7268</th>\n",
       "      <td>Really shabby and run down hotel Needs a tota...</td>\n",
       "      <td>really shabby run hotel need total refurbish j...</td>\n",
       "      <td>0</td>\n",
       "    </tr>\n",
       "    <tr>\n",
       "      <th>7269</th>\n",
       "      <td>Stains on the carpet peeling wallpaper scruff...</td>\n",
       "      <td>stain carpet peel wallpaper scruffy scuff bedr...</td>\n",
       "      <td>0</td>\n",
       "    </tr>\n",
       "  </tbody>\n",
       "</table>\n",
       "</div>"
      ],
      "text/plain": [
       "                                                 Review  \\\n",
       "7267                                I had no complaints   \n",
       "7268   Really shabby and run down hotel Needs a tota...   \n",
       "7269   Stains on the carpet peeling wallpaper scruff...   \n",
       "\n",
       "                                         Cleaned_Review  Category  \n",
       "7267                                         complaints         0  \n",
       "7268  really shabby run hotel need total refurbish j...         0  \n",
       "7269  stain carpet peel wallpaper scruffy scuff bedr...         0  "
      ]
     },
     "execution_count": 21,
     "metadata": {},
     "output_type": "execute_result"
    }
   ],
   "source": [
    "df_kaggle_merge.tail(3)"
   ]
  },
  {
   "cell_type": "markdown",
   "metadata": {},
   "source": [
    "# df_booking"
   ]
  },
  {
   "cell_type": "code",
   "execution_count": 22,
   "metadata": {},
   "outputs": [],
   "source": [
    "df_booking.drop(columns=['Unnamed: 0', \n",
    "                         'Name', \n",
    "                         'Country', \n",
    "                         'Room_stayed', \n",
    "                         'Date_stayed',\n",
    "                         'Trip_type', \n",
    "                         'Review_date', \n",
    "                         'Review_title', \n",
    "                         'Reviewer_score'],axis=1,inplace=True)"
   ]
  },
  {
   "cell_type": "code",
   "execution_count": 23,
   "metadata": {},
   "outputs": [],
   "source": [
    "df3 = df_booking.copy() #set to contain only positive => drop Neg column => category column = 1\n",
    "df4 = df_booking.copy() #set to contain only negative => drop Pos column => category column = 0\n",
    "\n",
    "df3.drop(columns=['Negative','Cleaned_Negative'],axis=1,inplace=True)\n",
    "df4.drop(columns=['Positive','Cleaned_Positive'],axis=1,inplace=True)\n",
    "\n",
    "df3['Category'] = 1\n",
    "df4['Category'] = 0\n",
    "\n",
    "df3.rename(columns = {'Positive':'Review'}, inplace = True)\n",
    "df3.rename(columns = {'Cleaned_Positive':'Cleaned_Review'}, inplace = True)\n",
    "\n",
    "df4.rename(columns = {'Negative':'Review'}, inplace = True)\n",
    "df4.rename(columns = {'Cleaned_Negative':'Cleaned_Review'}, inplace = True)\n",
    "\n",
    "df3 = df3.dropna()\n",
    "df4 = df4.dropna()\n",
    "\n",
    "df_booking_merge = pd.concat([df3, df4],ignore_index = True)"
   ]
  },
  {
   "cell_type": "markdown",
   "metadata": {},
   "source": [
    "# Create Training Data"
   ]
  },
  {
   "cell_type": "code",
   "execution_count": 24,
   "metadata": {},
   "outputs": [
    {
     "data": {
      "text/html": [
       "<div>\n",
       "<style scoped>\n",
       "    .dataframe tbody tr th:only-of-type {\n",
       "        vertical-align: middle;\n",
       "    }\n",
       "\n",
       "    .dataframe tbody tr th {\n",
       "        vertical-align: top;\n",
       "    }\n",
       "\n",
       "    .dataframe thead th {\n",
       "        text-align: right;\n",
       "    }\n",
       "</style>\n",
       "<table border=\"1\" class=\"dataframe\">\n",
       "  <thead>\n",
       "    <tr style=\"text-align: right;\">\n",
       "      <th></th>\n",
       "      <th>Review</th>\n",
       "      <th>Cleaned_Review</th>\n",
       "      <th>Category</th>\n",
       "    </tr>\n",
       "  </thead>\n",
       "  <tbody>\n",
       "    <tr>\n",
       "      <th>0</th>\n",
       "      <td>Room quality.. hotel staff.. the bar..</td>\n",
       "      <td>room quality hotel staff bar</td>\n",
       "      <td>1</td>\n",
       "    </tr>\n",
       "    <tr>\n",
       "      <th>1</th>\n",
       "      <td>The bed, size of room, the bath tub feature in...</td>\n",
       "      <td>bed size room bath tub feature bathroom location</td>\n",
       "      <td>1</td>\n",
       "    </tr>\n",
       "    <tr>\n",
       "      <th>2</th>\n",
       "      <td>I was made very welcome at the britania Hotel ...</td>\n",
       "      <td>make welcome britania hotel exerlent reception...</td>\n",
       "      <td>1</td>\n",
       "    </tr>\n",
       "  </tbody>\n",
       "</table>\n",
       "</div>"
      ],
      "text/plain": [
       "                                              Review  \\\n",
       "0             Room quality.. hotel staff.. the bar..   \n",
       "1  The bed, size of room, the bath tub feature in...   \n",
       "2  I was made very welcome at the britania Hotel ...   \n",
       "\n",
       "                                      Cleaned_Review  Category  \n",
       "0                       room quality hotel staff bar         1  \n",
       "1   bed size room bath tub feature bathroom location         1  \n",
       "2  make welcome britania hotel exerlent reception...         1  "
      ]
     },
     "execution_count": 24,
     "metadata": {},
     "output_type": "execute_result"
    }
   ],
   "source": [
    "df_booking_merge.head(3)"
   ]
  },
  {
   "cell_type": "code",
   "execution_count": 25,
   "metadata": {},
   "outputs": [
    {
     "data": {
      "text/html": [
       "<div>\n",
       "<style scoped>\n",
       "    .dataframe tbody tr th:only-of-type {\n",
       "        vertical-align: middle;\n",
       "    }\n",
       "\n",
       "    .dataframe tbody tr th {\n",
       "        vertical-align: top;\n",
       "    }\n",
       "\n",
       "    .dataframe thead th {\n",
       "        text-align: right;\n",
       "    }\n",
       "</style>\n",
       "<table border=\"1\" class=\"dataframe\">\n",
       "  <thead>\n",
       "    <tr style=\"text-align: right;\">\n",
       "      <th></th>\n",
       "      <th>Review</th>\n",
       "      <th>Cleaned_Review</th>\n",
       "      <th>Category</th>\n",
       "    </tr>\n",
       "  </thead>\n",
       "  <tbody>\n",
       "    <tr>\n",
       "      <th>0</th>\n",
       "      <td>The location was excellent for getting to the O2</td>\n",
       "      <td>location excellent get</td>\n",
       "      <td>1</td>\n",
       "    </tr>\n",
       "    <tr>\n",
       "      <th>1</th>\n",
       "      <td>The house keeping lady made my boyfriends day...</td>\n",
       "      <td>house keep lady make boyfriends day funny</td>\n",
       "      <td>1</td>\n",
       "    </tr>\n",
       "    <tr>\n",
       "      <th>2</th>\n",
       "      <td>The bed was OK</td>\n",
       "      <td>bed ok</td>\n",
       "      <td>1</td>\n",
       "    </tr>\n",
       "  </tbody>\n",
       "</table>\n",
       "</div>"
      ],
      "text/plain": [
       "                                              Review  \\\n",
       "0   The location was excellent for getting to the O2   \n",
       "1   The house keeping lady made my boyfriends day...   \n",
       "2                                    The bed was OK    \n",
       "\n",
       "                              Cleaned_Review  Category  \n",
       "0                     location excellent get         1  \n",
       "1  house keep lady make boyfriends day funny         1  \n",
       "2                                     bed ok         1  "
      ]
     },
     "execution_count": 25,
     "metadata": {},
     "output_type": "execute_result"
    }
   ],
   "source": [
    "df_kaggle_merge.head(3)"
   ]
  },
  {
   "cell_type": "code",
   "execution_count": 26,
   "metadata": {},
   "outputs": [],
   "source": [
    "train = pd.concat([df_booking_merge, df_kaggle_merge],ignore_index = True)"
   ]
  },
  {
   "cell_type": "code",
   "execution_count": 27,
   "metadata": {},
   "outputs": [],
   "source": [
    "test = df_tripadvisor"
   ]
  },
  {
   "cell_type": "code",
   "execution_count": 28,
   "metadata": {},
   "outputs": [],
   "source": [
    "train.to_csv('train_data.csv')\n",
    "test.to_csv('test_data.csv')"
   ]
  },
  {
   "cell_type": "code",
   "execution_count": null,
   "metadata": {},
   "outputs": [],
   "source": []
  }
 ],
 "metadata": {
  "kernelspec": {
   "display_name": "Python 3",
   "language": "python",
   "name": "python3"
  },
  "language_info": {
   "codemirror_mode": {
    "name": "ipython",
    "version": 3
   },
   "file_extension": ".py",
   "mimetype": "text/x-python",
   "name": "python",
   "nbconvert_exporter": "python",
   "pygments_lexer": "ipython3",
   "version": "3.8.5"
  }
 },
 "nbformat": 4,
 "nbformat_minor": 4
}
