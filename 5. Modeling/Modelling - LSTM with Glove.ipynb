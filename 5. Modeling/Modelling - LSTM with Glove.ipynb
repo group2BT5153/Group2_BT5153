{
 "cells": [
  {
   "cell_type": "code",
   "execution_count": 9,
   "metadata": {},
   "outputs": [],
   "source": [
    "import pandas as pd\n",
    "import numpy as np\n",
    "import nltk\n",
    "import re\n",
    "import string\n",
    "\n",
    "import matplotlib.pyplot as plt\n",
    "from sklearn.feature_extraction.text import TfidfVectorizer\n",
    "from sklearn.feature_extraction.text import CountVectorizer\n",
    "from sklearn.model_selection import train_test_split\n",
    "from sklearn.model_selection import GridSearchCV\n",
    "\n",
    "from sklearn.metrics import f1_score\n",
    "from sklearn.metrics import accuracy_score\n",
    "from sklearn.metrics import classification_report\n",
    "from sklearn.metrics import plot_confusion_matrix\n",
    "\n",
    "#deep learning library\n",
    "from keras.models import *\n",
    "from keras.layers import *\n",
    "from keras.callbacks import *\n",
    "\n",
    "from tensorflow.keras.preprocessing.text import Tokenizer\n",
    "import tensorflow as tf\n",
    "\n",
    "import warnings\n",
    "warnings.filterwarnings('ignore')"
   ]
  },
  {
   "cell_type": "code",
   "execution_count": 2,
   "metadata": {},
   "outputs": [],
   "source": [
    "train_data = pd.read_csv('train_data.csv')\n",
    "train_data.drop('Unnamed: 0', axis = 1, inplace = True)\n",
    "\n",
    "test_data = pd.read_csv('test_data.csv')\n",
    "test_data.drop('Unnamed: 0', axis = 1, inplace = True)"
   ]
  },
  {
   "cell_type": "code",
   "execution_count": 3,
   "metadata": {},
   "outputs": [],
   "source": [
    "xtrain = train_data.Cleaned_Review.astype(str)\n",
    "y_train = train_data.Category\n",
    "\n",
    "xtest = test_data.Cleaned_Review.astype(str)\n",
    "y_test = test_data.Category"
   ]
  },
  {
   "cell_type": "markdown",
   "metadata": {},
   "source": [
    "# LSTM with GloVe Embedding¶"
   ]
  },
  {
   "cell_type": "code",
   "execution_count": 167,
   "metadata": {},
   "outputs": [
    {
     "name": "stdout",
     "output_type": "stream",
     "text": [
      "15827\n"
     ]
    }
   ],
   "source": [
    "from keras.preprocessing.text import Tokenizer\n",
    "from keras.preprocessing.sequence import pad_sequences\n",
    "\n",
    "#Tokenize the sentences\n",
    "tokenizer = Tokenizer()\n",
    "\n",
    "#preparing vocabulary\n",
    "tokenizer.fit_on_texts(list(xtrain))\n",
    "\n",
    "#converting text into integer sequences\n",
    "x_tr_seq  = tokenizer.texts_to_sequences(xtrain) \n",
    "x_val_seq = tokenizer.texts_to_sequences(xtest)\n",
    "\n",
    "#padding to prepare sequences of same length\n",
    "x_tr_seq  = pad_sequences(x_tr_seq, maxlen=100)\n",
    "x_val_seq = pad_sequences(x_val_seq, maxlen=100)\n",
    "\n",
    "size_of_vocabulary=len(tokenizer.word_index) + 1 #+1 for padding\n",
    "print(size_of_vocabulary)"
   ]
  },
  {
   "cell_type": "code",
   "execution_count": 168,
   "metadata": {},
   "outputs": [
    {
     "name": "stdout",
     "output_type": "stream",
     "text": [
      "Loaded 400000 word vectors.\n"
     ]
    }
   ],
   "source": [
    "embeddings_index = dict()\n",
    "f = open('glove.6B.300d.txt')\n",
    "\n",
    "for line in f:\n",
    "    values = line.split()\n",
    "    word = values[0]\n",
    "    coefs = np.asarray(values[1:], dtype='float32')\n",
    "    embeddings_index[word] = coefs\n",
    "\n",
    "f.close()\n",
    "print('Loaded %s word vectors.' % len(embeddings_index))\n",
    "\n",
    "embedding_matrix = np.zeros((size_of_vocabulary, 300))"
   ]
  },
  {
   "cell_type": "code",
   "execution_count": 169,
   "metadata": {},
   "outputs": [],
   "source": [
    "for word, i in tokenizer.word_index.items():\n",
    "    embedding_vector = embeddings_index.get(word)\n",
    "    if embedding_vector is not None:\n",
    "        embedding_matrix[i] = embedding_vector"
   ]
  },
  {
   "cell_type": "code",
   "execution_count": 171,
   "metadata": {},
   "outputs": [
    {
     "name": "stdout",
     "output_type": "stream",
     "text": [
      "Model: \"sequential_8\"\n",
      "_________________________________________________________________\n",
      "Layer (type)                 Output Shape              Param #   \n",
      "=================================================================\n",
      "embedding_8 (Embedding)      (None, 100, 300)          4748100   \n",
      "_________________________________________________________________\n",
      "lstm_8 (LSTM)                (None, 100, 128)          219648    \n",
      "_________________________________________________________________\n",
      "global_max_pooling1d_7 (Glob (None, 128)               0         \n",
      "_________________________________________________________________\n",
      "dense_15 (Dense)             (None, 64)                8256      \n",
      "_________________________________________________________________\n",
      "dense_16 (Dense)             (None, 1)                 65        \n",
      "=================================================================\n",
      "Total params: 4,976,069\n",
      "Trainable params: 227,969\n",
      "Non-trainable params: 4,748,100\n",
      "_________________________________________________________________\n",
      "None\n"
     ]
    }
   ],
   "source": [
    "model=Sequential()\n",
    "\n",
    "#embedding layer\n",
    "model.add(Embedding(size_of_vocabulary,300,weights=[embedding_matrix],input_length=100,trainable=False)) \n",
    "\n",
    "#lstm layer\n",
    "model.add(LSTM(128,return_sequences=True,dropout=0.3))\n",
    "\n",
    "#Global Maxpooling\n",
    "model.add(GlobalMaxPooling1D())\n",
    "\n",
    "#Dense Layer\n",
    "model.add(Dense(64,activation='relu')) \n",
    "model.add(Dense(1,activation='sigmoid')) \n",
    "\n",
    "#Add loss function, metrics, optimizer\n",
    "model.compile(optimizer='adam', loss='binary_crossentropy',metrics=[\"acc\"]) \n",
    "\n",
    "#Adding callbacks\n",
    "es = EarlyStopping(monitor='val_loss', mode='min', verbose=1,patience=3)  \n",
    "mc=ModelCheckpoint('best_model.h5', monitor='val_acc', mode='max', save_best_only=True,verbose=1)  \n",
    "\n",
    "#Print summary of model\n",
    "print(model.summary())"
   ]
  },
  {
   "cell_type": "code",
   "execution_count": 172,
   "metadata": {},
   "outputs": [
    {
     "name": "stdout",
     "output_type": "stream",
     "text": [
      "Epoch 1/10\n",
      "130/130 [==============================] - 31s 225ms/step - loss: 0.4954 - acc: 0.7452 - val_loss: 0.5859 - val_acc: 0.6925\n",
      "\n",
      "Epoch 00001: val_acc improved from -inf to 0.69246, saving model to best_model.h5\n",
      "Epoch 2/10\n",
      "130/130 [==============================] - 30s 227ms/step - loss: 0.3353 - acc: 0.8429 - val_loss: 0.5753 - val_acc: 0.6850\n",
      "\n",
      "Epoch 00002: val_acc did not improve from 0.69246\n",
      "Epoch 3/10\n",
      "130/130 [==============================] - 30s 232ms/step - loss: 0.3271 - acc: 0.8487 - val_loss: 0.5933 - val_acc: 0.6888\n",
      "\n",
      "Epoch 00003: val_acc did not improve from 0.69246\n",
      "Epoch 4/10\n",
      "130/130 [==============================] - 29s 226ms/step - loss: 0.3060 - acc: 0.8623 - val_loss: 0.6123 - val_acc: 0.6773\n",
      "\n",
      "Epoch 00004: val_acc did not improve from 0.69246\n",
      "Epoch 5/10\n",
      "130/130 [==============================] - 29s 222ms/step - loss: 0.2938 - acc: 0.8722 - val_loss: 0.5602 - val_acc: 0.7096\n",
      "\n",
      "Epoch 00005: val_acc improved from 0.69246 to 0.70957, saving model to best_model.h5\n",
      "Epoch 6/10\n",
      "130/130 [==============================] - 29s 222ms/step - loss: 0.2891 - acc: 0.8717 - val_loss: 0.4966 - val_acc: 0.7513\n",
      "\n",
      "Epoch 00006: val_acc improved from 0.70957 to 0.75127, saving model to best_model.h5\n",
      "Epoch 7/10\n",
      "130/130 [==============================] - 29s 224ms/step - loss: 0.2762 - acc: 0.8782 - val_loss: 0.6677 - val_acc: 0.6585\n",
      "\n",
      "Epoch 00007: val_acc did not improve from 0.75127\n",
      "Epoch 8/10\n",
      "130/130 [==============================] - 29s 225ms/step - loss: 0.2589 - acc: 0.8829 - val_loss: 0.6321 - val_acc: 0.6739\n",
      "\n",
      "Epoch 00008: val_acc did not improve from 0.75127\n",
      "Epoch 9/10\n",
      "130/130 [==============================] - 33s 253ms/step - loss: 0.2466 - acc: 0.8895 - val_loss: 0.5694 - val_acc: 0.7021\n",
      "\n",
      "Epoch 00009: val_acc did not improve from 0.75127\n",
      "Epoch 00009: early stopping\n"
     ]
    }
   ],
   "source": [
    "history = model.fit(np.array(x_tr_seq),np.array(y_train),batch_size=128,epochs=10,\n",
    "                    validation_split=0.2,verbose=1,\n",
    "                    callbacks=[es,mc])"
   ]
  },
  {
   "cell_type": "code",
   "execution_count": 173,
   "metadata": {},
   "outputs": [
    {
     "name": "stdout",
     "output_type": "stream",
     "text": [
      "13/13 [==============================] - 1s 84ms/step - loss: 0.6005 - acc: 0.7945\n",
      "0.7945454716682434\n",
      "              precision    recall  f1-score   support\n",
      "\n",
      "           0       0.94      0.77      0.85      1212\n",
      "           1       0.58      0.87      0.69       438\n",
      "\n",
      "    accuracy                           0.79      1650\n",
      "   macro avg       0.76      0.82      0.77      1650\n",
      "weighted avg       0.84      0.79      0.80      1650\n",
      "\n"
     ]
    }
   ],
   "source": [
    "#loading best model\n",
    "from keras.models import load_model\n",
    "model = load_model('best_model.h5')\n",
    "\n",
    "y_pred = model.predict_classes(x_val_seq)\n",
    "\n",
    "\n",
    "_,val_acc = model.evaluate(x_val_seq,y_test, batch_size=128)\n",
    "print(val_acc)\n",
    "\n",
    "from sklearn.metrics import classification_report\n",
    "# Creating classification report \n",
    "print(classification_report(y_test, y_pred))"
   ]
  },
  {
   "cell_type": "code",
   "execution_count": null,
   "metadata": {},
   "outputs": [],
   "source": []
  }
 ],
 "metadata": {
  "kernelspec": {
   "display_name": "Python 3",
   "language": "python",
   "name": "python3"
  },
  "language_info": {
   "codemirror_mode": {
    "name": "ipython",
    "version": 3
   },
   "file_extension": ".py",
   "mimetype": "text/x-python",
   "name": "python",
   "nbconvert_exporter": "python",
   "pygments_lexer": "ipython3",
   "version": "3.8.5"
  }
 },
 "nbformat": 4,
 "nbformat_minor": 4
}
