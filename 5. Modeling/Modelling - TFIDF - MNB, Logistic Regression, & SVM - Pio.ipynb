{
 "cells": [
  {
   "cell_type": "code",
   "execution_count": 1,
   "metadata": {},
   "outputs": [],
   "source": [
    "import pandas as pd\n",
    "import numpy as np\n",
    "import nltk\n",
    "import re\n",
    "import string\n",
    "\n",
    "# from nltk.corpus import stopwords\n",
    "# from nltk.stem import WordNetLemmatizer \n",
    "# from nltk.tokenize import word_tokenize\n",
    "# from nltk.corpus import words\n",
    "import matplotlib.pyplot as plt\n",
    "from sklearn.feature_extraction.text import TfidfVectorizer\n",
    "\n",
    "from sklearn.model_selection import train_test_split\n",
    "from sklearn.model_selection import GridSearchCV\n",
    "\n",
    "from sklearn.metrics import f1_score\n",
    "from sklearn.metrics import accuracy_score\n",
    "from sklearn.metrics import classification_report\n",
    "from sklearn.metrics import plot_confusion_matrix\n",
    "\n",
    "from sklearn.naive_bayes import MultinomialNB\n",
    "from sklearn.linear_model import LogisticRegression\n",
    "from sklearn.svm import SVC\n",
    "from sklearn.linear_model import SGDClassifier\n",
    "\n",
    "import warnings\n",
    "warnings.filterwarnings('ignore')"
   ]
  },
  {
   "cell_type": "markdown",
   "metadata": {},
   "source": [
    "### Train, Valid, and Test + Vectorisation "
   ]
  },
  {
   "cell_type": "code",
   "execution_count": 2,
   "metadata": {},
   "outputs": [
    {
     "data": {
      "text/html": [
       "<div>\n",
       "<style scoped>\n",
       "    .dataframe tbody tr th:only-of-type {\n",
       "        vertical-align: middle;\n",
       "    }\n",
       "\n",
       "    .dataframe tbody tr th {\n",
       "        vertical-align: top;\n",
       "    }\n",
       "\n",
       "    .dataframe thead th {\n",
       "        text-align: right;\n",
       "    }\n",
       "</style>\n",
       "<table border=\"1\" class=\"dataframe\">\n",
       "  <thead>\n",
       "    <tr style=\"text-align: right;\">\n",
       "      <th></th>\n",
       "      <th>Review</th>\n",
       "      <th>Cleaned_Review</th>\n",
       "      <th>Category</th>\n",
       "    </tr>\n",
       "  </thead>\n",
       "  <tbody>\n",
       "    <tr>\n",
       "      <th>0</th>\n",
       "      <td>Room quality.. hotel staff.. the bar..</td>\n",
       "      <td>room quality hotel staff bar</td>\n",
       "      <td>1</td>\n",
       "    </tr>\n",
       "    <tr>\n",
       "      <th>1</th>\n",
       "      <td>The bed, size of room, the bath tub feature in...</td>\n",
       "      <td>bed size room bath tub feature bathroom location</td>\n",
       "      <td>1</td>\n",
       "    </tr>\n",
       "    <tr>\n",
       "      <th>2</th>\n",
       "      <td>I was made very welcome at the britania Hotel ...</td>\n",
       "      <td>make welcome britania hotel exerlent reception...</td>\n",
       "      <td>1</td>\n",
       "    </tr>\n",
       "    <tr>\n",
       "      <th>3</th>\n",
       "      <td>Location was brilliant.</td>\n",
       "      <td>location brilliant</td>\n",
       "      <td>1</td>\n",
       "    </tr>\n",
       "    <tr>\n",
       "      <th>4</th>\n",
       "      <td>Syl checked me in. She was friendly and profes...</td>\n",
       "      <td>syl check friendly professional offer upgrade ...</td>\n",
       "      <td>1</td>\n",
       "    </tr>\n",
       "    <tr>\n",
       "      <th>...</th>\n",
       "      <td>...</td>\n",
       "      <td>...</td>\n",
       "      <td>...</td>\n",
       "    </tr>\n",
       "    <tr>\n",
       "      <th>20668</th>\n",
       "      <td>No Negative</td>\n",
       "      <td>negative</td>\n",
       "      <td>0</td>\n",
       "    </tr>\n",
       "    <tr>\n",
       "      <th>20669</th>\n",
       "      <td>concierge was uninformed</td>\n",
       "      <td>concierge uninformed</td>\n",
       "      <td>0</td>\n",
       "    </tr>\n",
       "    <tr>\n",
       "      <th>20670</th>\n",
       "      <td>I had no complaints</td>\n",
       "      <td>complaints</td>\n",
       "      <td>0</td>\n",
       "    </tr>\n",
       "    <tr>\n",
       "      <th>20671</th>\n",
       "      <td>Really shabby and run down hotel Needs a tota...</td>\n",
       "      <td>really shabby run hotel need total refurbish j...</td>\n",
       "      <td>0</td>\n",
       "    </tr>\n",
       "    <tr>\n",
       "      <th>20672</th>\n",
       "      <td>Stains on the carpet peeling wallpaper scruff...</td>\n",
       "      <td>stain carpet peel wallpaper scruffy scuff bedr...</td>\n",
       "      <td>0</td>\n",
       "    </tr>\n",
       "  </tbody>\n",
       "</table>\n",
       "<p>20673 rows × 3 columns</p>\n",
       "</div>"
      ],
      "text/plain": [
       "                                                  Review  \\\n",
       "0                 Room quality.. hotel staff.. the bar..   \n",
       "1      The bed, size of room, the bath tub feature in...   \n",
       "2      I was made very welcome at the britania Hotel ...   \n",
       "3                                Location was brilliant.   \n",
       "4      Syl checked me in. She was friendly and profes...   \n",
       "...                                                  ...   \n",
       "20668                                        No Negative   \n",
       "20669                          concierge was uninformed    \n",
       "20670                                I had no complaints   \n",
       "20671   Really shabby and run down hotel Needs a tota...   \n",
       "20672   Stains on the carpet peeling wallpaper scruff...   \n",
       "\n",
       "                                          Cleaned_Review  Category  \n",
       "0                           room quality hotel staff bar         1  \n",
       "1       bed size room bath tub feature bathroom location         1  \n",
       "2      make welcome britania hotel exerlent reception...         1  \n",
       "3                                     location brilliant         1  \n",
       "4      syl check friendly professional offer upgrade ...         1  \n",
       "...                                                  ...       ...  \n",
       "20668                                           negative         0  \n",
       "20669                               concierge uninformed         0  \n",
       "20670                                         complaints         0  \n",
       "20671  really shabby run hotel need total refurbish j...         0  \n",
       "20672  stain carpet peel wallpaper scruffy scuff bedr...         0  \n",
       "\n",
       "[20673 rows x 3 columns]"
      ]
     },
     "execution_count": 2,
     "metadata": {},
     "output_type": "execute_result"
    }
   ],
   "source": [
    "train_data = pd.read_csv('train_data.csv')\n",
    "train_data.drop('Unnamed: 0', axis = 1)"
   ]
  },
  {
   "cell_type": "code",
   "execution_count": 3,
   "metadata": {},
   "outputs": [
    {
     "data": {
      "text/html": [
       "<div>\n",
       "<style scoped>\n",
       "    .dataframe tbody tr th:only-of-type {\n",
       "        vertical-align: middle;\n",
       "    }\n",
       "\n",
       "    .dataframe tbody tr th {\n",
       "        vertical-align: top;\n",
       "    }\n",
       "\n",
       "    .dataframe thead th {\n",
       "        text-align: right;\n",
       "    }\n",
       "</style>\n",
       "<table border=\"1\" class=\"dataframe\">\n",
       "  <thead>\n",
       "    <tr style=\"text-align: right;\">\n",
       "      <th></th>\n",
       "      <th>Review</th>\n",
       "      <th>Cleaned_Review</th>\n",
       "      <th>Category</th>\n",
       "    </tr>\n",
       "  </thead>\n",
       "  <tbody>\n",
       "    <tr>\n",
       "      <th>0</th>\n",
       "      <td>All ok except the cost of parking We had a bud...</td>\n",
       "      <td>ok except cost park budget night stay well set...</td>\n",
       "      <td>1</td>\n",
       "    </tr>\n",
       "    <tr>\n",
       "      <th>1</th>\n",
       "      <td>Bad experience overall I had the worse experie...</td>\n",
       "      <td>bad experience overall worse experience ever f...</td>\n",
       "      <td>0</td>\n",
       "    </tr>\n",
       "    <tr>\n",
       "      <th>2</th>\n",
       "      <td>Better than expected stayed as part of a natio...</td>\n",
       "      <td>better expect stay part national coach trip pl...</td>\n",
       "      <td>1</td>\n",
       "    </tr>\n",
       "    <tr>\n",
       "      <th>3</th>\n",
       "      <td>Dismal I booked a double room six months in ad...</td>\n",
       "      <td>dismal book double room six months advance sta...</td>\n",
       "      <td>0</td>\n",
       "    </tr>\n",
       "    <tr>\n",
       "      <th>4</th>\n",
       "      <td>Good value for weekend break Service was very ...</td>\n",
       "      <td>good value weekend break service good room lar...</td>\n",
       "      <td>1</td>\n",
       "    </tr>\n",
       "    <tr>\n",
       "      <th>...</th>\n",
       "      <td>...</td>\n",
       "      <td>...</td>\n",
       "      <td>...</td>\n",
       "    </tr>\n",
       "    <tr>\n",
       "      <th>1645</th>\n",
       "      <td>Worst Hotel in London Me and my friend booked ...</td>\n",
       "      <td>worst hotel london friend book nights leave ho...</td>\n",
       "      <td>0</td>\n",
       "    </tr>\n",
       "    <tr>\n",
       "      <th>1646</th>\n",
       "      <td>Would not recommend I was given a room in the ...</td>\n",
       "      <td>would not recommend give room basement felt li...</td>\n",
       "      <td>0</td>\n",
       "    </tr>\n",
       "    <tr>\n",
       "      <th>1647</th>\n",
       "      <td>Wouldn’t stay again- don’t recommend The inter...</td>\n",
       "      <td>would not stay not recommend interior old ward...</td>\n",
       "      <td>0</td>\n",
       "    </tr>\n",
       "    <tr>\n",
       "      <th>1648</th>\n",
       "      <td>Beautiful lobby, Tired rooms, Rude staff We ar...</td>\n",
       "      <td>beautiful lobby tire room rude staff arrive pa...</td>\n",
       "      <td>0</td>\n",
       "    </tr>\n",
       "    <tr>\n",
       "      <th>1649</th>\n",
       "      <td>It was ok I had booked the hotel for a work ev...</td>\n",
       "      <td>ok book hotel work event nearby cancel could n...</td>\n",
       "      <td>0</td>\n",
       "    </tr>\n",
       "  </tbody>\n",
       "</table>\n",
       "<p>1650 rows × 3 columns</p>\n",
       "</div>"
      ],
      "text/plain": [
       "                                                 Review  \\\n",
       "0     All ok except the cost of parking We had a bud...   \n",
       "1     Bad experience overall I had the worse experie...   \n",
       "2     Better than expected stayed as part of a natio...   \n",
       "3     Dismal I booked a double room six months in ad...   \n",
       "4     Good value for weekend break Service was very ...   \n",
       "...                                                 ...   \n",
       "1645  Worst Hotel in London Me and my friend booked ...   \n",
       "1646  Would not recommend I was given a room in the ...   \n",
       "1647  Wouldn’t stay again- don’t recommend The inter...   \n",
       "1648  Beautiful lobby, Tired rooms, Rude staff We ar...   \n",
       "1649  It was ok I had booked the hotel for a work ev...   \n",
       "\n",
       "                                         Cleaned_Review  Category  \n",
       "0     ok except cost park budget night stay well set...         1  \n",
       "1     bad experience overall worse experience ever f...         0  \n",
       "2     better expect stay part national coach trip pl...         1  \n",
       "3     dismal book double room six months advance sta...         0  \n",
       "4     good value weekend break service good room lar...         1  \n",
       "...                                                 ...       ...  \n",
       "1645  worst hotel london friend book nights leave ho...         0  \n",
       "1646  would not recommend give room basement felt li...         0  \n",
       "1647  would not stay not recommend interior old ward...         0  \n",
       "1648  beautiful lobby tire room rude staff arrive pa...         0  \n",
       "1649  ok book hotel work event nearby cancel could n...         0  \n",
       "\n",
       "[1650 rows x 3 columns]"
      ]
     },
     "execution_count": 3,
     "metadata": {},
     "output_type": "execute_result"
    }
   ],
   "source": [
    "test_data = pd.read_csv('test_data.csv')\n",
    "test_data = test_data[['Unnamed: 0', 'Review', 'Cleaned_Review', 'Category']]\n",
    "test_data.drop('Unnamed: 0', axis = 1)"
   ]
  },
  {
   "cell_type": "code",
   "execution_count": 4,
   "metadata": {},
   "outputs": [],
   "source": [
    "X = train_data.Cleaned_Review\n",
    "\n",
    "y = train_data.Category\n",
    "\n",
    "X = X.astype('str')\n",
    "\n",
    "y = y.astype('float64')\n",
    "\n",
    "X_test = test_data.Cleaned_Review\n",
    "y_test = test_data.Category\n",
    "\n",
    "X_test = X_test.astype('str')\n",
    "y_test = y_test.astype('str')"
   ]
  },
  {
   "cell_type": "code",
   "execution_count": 5,
   "metadata": {},
   "outputs": [
    {
     "name": "stdout",
     "output_type": "stream",
     "text": [
      "Wall time: 324 ms\n"
     ]
    }
   ],
   "source": [
    "%%time\n",
    "# TFIDF \n",
    "\n",
    "# create a TFIDF vectorizer object \n",
    "tfidf_vect = TfidfVectorizer(analyzer = 'word', token_pattern = r'\\w{1,}')\n",
    "\n",
    "\n",
    "# transform the training and validation data using count vectorizer object\n",
    "\n",
    "X_count = tfidf_vect.fit_transform(X)\n",
    "X_test_count = tfidf_vect.transform(X_test)"
   ]
  },
  {
   "cell_type": "code",
   "execution_count": 6,
   "metadata": {},
   "outputs": [],
   "source": [
    "X_count = X_count.astype('float64')\n",
    "# X_train_count = X_train_count.astype('float64')\n",
    "# X_valid_count = X_valid_count.astype('float64')\n",
    "X_test_count = X_test_count.astype('float64')\n",
    "\n",
    "y = y.astype('float64')\n",
    "# y_train = y_train.astype('float64')\n",
    "# y_valid = y_valid.astype('float64')\n",
    "y_test = y_test.astype('float64')"
   ]
  },
  {
   "cell_type": "markdown",
   "metadata": {},
   "source": [
    "### MNB"
   ]
  },
  {
   "cell_type": "code",
   "execution_count": 7,
   "metadata": {},
   "outputs": [
    {
     "name": "stdout",
     "output_type": "stream",
     "text": [
      "Best Score:  0.844343419275317\n",
      "Best Params:  {'alpha': 1}\n",
      "Wall time: 152 ms\n"
     ]
    }
   ],
   "source": [
    "%%time \n",
    "\n",
    "mnb_params = {\n",
    "    'alpha' : [0.7, 0.8, 0.9, 1]\n",
    "}\n",
    "\n",
    "nb = MultinomialNB()\n",
    "\n",
    "clf = GridSearchCV(nb, mnb_params,cv= 5)\n",
    "clf.fit(X_count, y)\n",
    "\n",
    "print(\"Best Score: \", clf.best_score_)\n",
    "print(\"Best Params: \", clf.best_params_)\n"
   ]
  },
  {
   "cell_type": "code",
   "execution_count": 8,
   "metadata": {},
   "outputs": [
    {
     "data": {
      "text/plain": [
       "MultinomialNB(alpha=1)"
      ]
     },
     "execution_count": 8,
     "metadata": {},
     "output_type": "execute_result"
    }
   ],
   "source": [
    "nb = MultinomialNB(alpha = clf.best_params_['alpha'])\n",
    "nb.fit(X_count, y)"
   ]
  },
  {
   "cell_type": "code",
   "execution_count": 9,
   "metadata": {},
   "outputs": [
    {
     "data": {
      "text/plain": [
       "array([1., 0., 1., ..., 0., 0., 1.])"
      ]
     },
     "execution_count": 9,
     "metadata": {},
     "output_type": "execute_result"
    }
   ],
   "source": [
    "MNB_prediction_1 = nb.predict(X_test_count)\n",
    "MNB_prediction_1"
   ]
  },
  {
   "cell_type": "code",
   "execution_count": 10,
   "metadata": {},
   "outputs": [
    {
     "name": "stdout",
     "output_type": "stream",
     "text": [
      "MNB, Count Vectors: 79.71643%\n",
      "Accuracy: 83.09091%\n",
      "\n",
      "              precision    recall  f1-score   support\n",
      "\n",
      "         0.0       0.92      0.84      0.88      1212\n",
      "         1.0       0.65      0.80      0.71       438\n",
      "\n",
      "    accuracy                           0.83      1650\n",
      "   macro avg       0.78      0.82      0.80      1650\n",
      "weighted avg       0.85      0.83      0.84      1650\n",
      "\n"
     ]
    }
   ],
   "source": [
    "f1score_MNB = f1_score(y_test, MNB_prediction_1, average = 'macro')\n",
    "print('MNB, Count Vectors: {0:.5f}%'.format(f1score_MNB*100))\n",
    "\n",
    "accuracy_MNB = accuracy_score(y_test, MNB_prediction_1)\n",
    "print('Accuracy: {0:.5f}%'.format(accuracy_MNB*100))\n",
    "\n",
    "print()\n",
    "print(classification_report(y_test, MNB_prediction_1))"
   ]
  },
  {
   "cell_type": "code",
   "execution_count": 11,
   "metadata": {},
   "outputs": [
    {
     "data": {
      "image/png": "[encoded data removed]",
      "text/plain": [
       "<Figure size 432x288 with 2 Axes>"
      ]
     },
     "metadata": {
      "needs_background": "light"
     },
     "output_type": "display_data"
    }
   ],
   "source": [
    "plot_confusion_matrix(nb, X_test_count, y_test)  \n",
    "plt.show()  "
   ]
  },
  {
   "cell_type": "markdown",
   "metadata": {},
   "source": [
    "### Logistic Regression"
   ]
  },
  {
   "cell_type": "code",
   "execution_count": 12,
   "metadata": {
    "scrolled": true
   },
   "outputs": [
    {
     "name": "stdout",
     "output_type": "stream",
     "text": [
      "Best Score:  0.839166799753599\n",
      "Best Params:  {'C': 1.0, 'max_iter': 100, 'penalty': 'l2', 'solver': 'lbfgs'}\n",
      "Wall time: 27.8 s\n"
     ]
    }
   ],
   "source": [
    "%%time\n",
    "\n",
    "lr = LogisticRegression(random_state = 123)\n",
    "\n",
    "lr_params = {\n",
    "    'solver' : ['lbfgs', 'liblinear'], #'sag', 'newton-cg'\n",
    "    'penalty': ['l2'],\n",
    "    'C': [10, 1.0, 0.1, 0.01],\n",
    "    'max_iter': [100, 150, 200, 300]\n",
    "}\n",
    "\n",
    "\n",
    "\n",
    "clf = GridSearchCV(lr, lr_params, cv= 5)\n",
    "clf.fit(X_count, y)\n",
    "\n",
    "print(\"Best Score: \", clf.best_score_)\n",
    "print(\"Best Params: \", clf.best_params_)\n"
   ]
  },
  {
   "cell_type": "code",
   "execution_count": 13,
   "metadata": {},
   "outputs": [
    {
     "data": {
      "text/plain": [
       "LogisticRegression(random_state=123)"
      ]
     },
     "execution_count": 13,
     "metadata": {},
     "output_type": "execute_result"
    }
   ],
   "source": [
    "lr = LogisticRegression(random_state = 123, C = clf.best_params_['C'],\n",
    "                         max_iter = clf.best_params_['max_iter'],\n",
    "                         penalty = clf.best_params_['penalty'],\n",
    "                         solver = clf.best_params_['solver'])\n",
    "lr.fit(X_count, y)"
   ]
  },
  {
   "cell_type": "code",
   "execution_count": 14,
   "metadata": {},
   "outputs": [
    {
     "data": {
      "text/plain": [
       "array([1., 0., 1., ..., 0., 0., 1.])"
      ]
     },
     "execution_count": 14,
     "metadata": {},
     "output_type": "execute_result"
    }
   ],
   "source": [
    "lr_prediction= lr.predict(X_test_count)\n",
    "lr_prediction"
   ]
  },
  {
   "cell_type": "code",
   "execution_count": 15,
   "metadata": {},
   "outputs": [
    {
     "name": "stdout",
     "output_type": "stream",
     "text": [
      "LR, Count Vectors: 78.16942%\n",
      "Accuracy: 81.21212%\n",
      "\n",
      "              precision    recall  f1-score   support\n",
      "\n",
      "         0.0       0.93      0.81      0.86      1212\n",
      "         1.0       0.61      0.83      0.70       438\n",
      "\n",
      "    accuracy                           0.81      1650\n",
      "   macro avg       0.77      0.82      0.78      1650\n",
      "weighted avg       0.84      0.81      0.82      1650\n",
      "\n"
     ]
    }
   ],
   "source": [
    "f1score_lr = f1_score(y_test, lr_prediction, average = 'macro')\n",
    "print('LR, Count Vectors: {0:.5f}%'.format(f1score_lr*100))\n",
    "\n",
    "accuracy_lr = accuracy_score(y_test, lr_prediction)\n",
    "print('Accuracy: {0:.5f}%'.format(accuracy_lr*100))\n",
    "\n",
    "print()\n",
    "print(classification_report(y_test, lr_prediction))"
   ]
  },
  {
   "cell_type": "code",
   "execution_count": 16,
   "metadata": {},
   "outputs": [
    {
     "data": {
      "image/png": "[encoded data removed]",
      "text/plain": [
       "<Figure size 432x288 with 2 Axes>"
      ]
     },
     "metadata": {
      "needs_background": "light"
     },
     "output_type": "display_data"
    }
   ],
   "source": [
    "plot_confusion_matrix(lr, X_test_count, y_test)  \n",
    "plt.show()  "
   ]
  },
  {
   "cell_type": "markdown",
   "metadata": {},
   "source": [
    "### SVM"
   ]
  },
  {
   "cell_type": "code",
   "execution_count": 17,
   "metadata": {
    "scrolled": true
   },
   "outputs": [
    {
     "name": "stdout",
     "output_type": "stream",
     "text": [
      "Best Score:  0.845068593882447\n",
      "Best Params:  {'alpha': 0.0001, 'max_iter': 200, 'penalty': 'l2'}\n",
      "Wall time: 5.07 s\n"
     ]
    }
   ],
   "source": [
    "%%time\n",
    "\n",
    "svm = SGDClassifier(loss = 'hinge', random_state = 123)\n",
    "\n",
    "svm_params = {\n",
    "    'alpha': [1e-4, 1e-3, 1e-2, 1e-1, 1e0, 1e1, 1e2, 1e3], \n",
    "    'max_iter': [200,300,500,700,1000],\n",
    "    'penalty': ['l2'],\n",
    "}\n",
    "\n",
    "\n",
    "\n",
    "clf = GridSearchCV(svm, svm_params, cv= 5)\n",
    "clf.fit(X_count, y)\n",
    "\n",
    "print(\"Best Score: \", clf.best_score_)\n",
    "print(\"Best Params: \", clf.best_params_)"
   ]
  },
  {
   "cell_type": "code",
   "execution_count": 18,
   "metadata": {},
   "outputs": [
    {
     "data": {
      "text/plain": [
       "SGDClassifier(max_iter=200, random_state=123)"
      ]
     },
     "execution_count": 18,
     "metadata": {},
     "output_type": "execute_result"
    }
   ],
   "source": [
    "svm = SGDClassifier(loss = 'hinge', alpha = clf.best_params_['alpha'],\n",
    "          penalty = clf.best_params_['penalty'],\n",
    "          max_iter = clf.best_params_['max_iter'],\n",
    "          random_state = 123)\n",
    "\n",
    "svm.fit(X_count, y)"
   ]
  },
  {
   "cell_type": "code",
   "execution_count": 19,
   "metadata": {},
   "outputs": [
    {
     "data": {
      "text/plain": [
       "array([1., 0., 1., ..., 0., 0., 1.])"
      ]
     },
     "execution_count": 19,
     "metadata": {},
     "output_type": "execute_result"
    }
   ],
   "source": [
    "svm_prediction = svm.predict(X_test_count)\n",
    "svm_prediction"
   ]
  },
  {
   "cell_type": "code",
   "execution_count": 20,
   "metadata": {},
   "outputs": [
    {
     "name": "stdout",
     "output_type": "stream",
     "text": [
      "SVM, Count Vectors: 78.85863%\n",
      "Accuracy: 82.30303%\n",
      "\n",
      "              precision    recall  f1-score   support\n",
      "\n",
      "         0.0       0.92      0.83      0.87      1212\n",
      "         1.0       0.63      0.79      0.70       438\n",
      "\n",
      "    accuracy                           0.82      1650\n",
      "   macro avg       0.78      0.81      0.79      1650\n",
      "weighted avg       0.84      0.82      0.83      1650\n",
      "\n"
     ]
    }
   ],
   "source": [
    "f1score_svm = f1_score(y_test, svm_prediction, average = 'macro')\n",
    "print('SVM, Count Vectors: {0:.5f}%'.format(f1score_svm *100))\n",
    "\n",
    "accuracy_svm = accuracy_score(y_test, svm_prediction)\n",
    "print('Accuracy: {0:.5f}%'.format(accuracy_svm*100))\n",
    "\n",
    "print()\n",
    "print(classification_report(y_test, svm_prediction))"
   ]
  },
  {
   "cell_type": "code",
   "execution_count": 21,
   "metadata": {},
   "outputs": [
    {
     "data": {
      "image/png": "[encoded data removed]",
      "text/plain": [
       "<Figure size 432x288 with 2 Axes>"
      ]
     },
     "metadata": {
      "needs_background": "light"
     },
     "output_type": "display_data"
    }
   ],
   "source": [
    "plot_confusion_matrix(svm, X_test_count, y_test)  \n",
    "plt.show()  "
   ]
  },
  {
   "cell_type": "code",
   "execution_count": null,
   "metadata": {},
   "outputs": [],
   "source": []
  },
  {
   "cell_type": "code",
   "execution_count": null,
   "metadata": {},
   "outputs": [],
   "source": []
  }
 ],
 "metadata": {
  "kernelspec": {
   "display_name": "Python 3",
   "language": "python",
   "name": "python3"
  },
  "language_info": {
   "codemirror_mode": {
    "name": "ipython",
    "version": 3
   },
   "file_extension": ".py",
   "mimetype": "text/x-python",
   "name": "python",
   "nbconvert_exporter": "python",
   "pygments_lexer": "ipython3",
   "version": "3.8.3"
  }
 },
 "nbformat": 4,
 "nbformat_minor": 4
}
