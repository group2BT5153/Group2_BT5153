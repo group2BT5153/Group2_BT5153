{
 "cells": [
  {
   "cell_type": "code",
   "execution_count": 1,
   "metadata": {},
   "outputs": [],
   "source": [
    "import pandas as pd\n",
    "import numpy as np\n",
    "\n",
    "import csv \n",
    "from sklearn.model_selection import KFold\n",
    "from sklearn.metrics import accuracy_score\n",
    "from collections import Counter\n",
    "import fasttext\n",
    "import re\n",
    "from sklearn.metrics import precision_recall_fscore_support as score\n",
    "from sklearn.metrics import accuracy_score\n",
    "\n",
    "import warnings\n",
    "warnings.filterwarnings(\"ignore\")\n",
    "\n",
    "#deep learning library\n",
    "from keras.models import *\n",
    "from keras.layers import *\n",
    "from keras.callbacks import *\n",
    "\n",
    "from tensorflow.keras.preprocessing.text import Tokenizer\n",
    "import tensorflow as tf\n",
    "\n",
    "random_state = 123"
   ]
  },
  {
   "cell_type": "markdown",
   "metadata": {},
   "source": [
    "# Loading Data"
   ]
  },
  {
   "cell_type": "code",
   "execution_count": 2,
   "metadata": {},
   "outputs": [],
   "source": [
    "df_train = pd.read_csv('train_data.csv')\n",
    "df_test = pd.read_csv('test_data.csv')"
   ]
  },
  {
   "cell_type": "code",
   "execution_count": 3,
   "metadata": {},
   "outputs": [],
   "source": [
    "train_data = df_train.copy()\n",
    "test_data = df_test.copy()"
   ]
  },
  {
   "cell_type": "code",
   "execution_count": 4,
   "metadata": {},
   "outputs": [],
   "source": [
    "train_data.drop(columns=['Unnamed: 0'],axis=1,inplace=True)\n",
    "test_data.drop(columns=['Unnamed: 0'],axis=1,inplace=True)"
   ]
  },
  {
   "cell_type": "code",
   "execution_count": 5,
   "metadata": {},
   "outputs": [],
   "source": [
    "#fasttext required\n",
    "train_data['Cleaned_Review'] = train_data['Cleaned_Review'].astype(str)\n",
    "test_data['Cleaned_Review'] = test_data['Cleaned_Review'].astype(str)\n",
    "\n",
    "#fasttext required: change category to word type\n",
    "train_data['Category'] = np.where((train_data['Category'] == 1),'Positive','Negative')\n",
    "test_data['Category'] = np.where((test_data['Category'] == 1),'Positive','Negative')\n",
    "\n",
    "#fasttext required: Prefixing each row of the category column with '__label__'\n",
    "train_data['labels_text']= train_data.iloc[:, 2].apply(lambda x: '__label__' + x)\n",
    "test_data['labels_text'] = test_data.iloc[:, 2].apply(lambda x: '__label__' + x)"
   ]
  },
  {
   "cell_type": "markdown",
   "metadata": {},
   "source": [
    "# Training and Cross Validation"
   ]
  },
  {
   "cell_type": "code",
   "execution_count": 6,
   "metadata": {},
   "outputs": [],
   "source": [
    "training_file = open('train.txt','w')\n",
    "training_file.writelines(train_data.labels_text + '\\n')\n",
    "training_file.close()"
   ]
  },
  {
   "cell_type": "code",
   "execution_count": 16,
   "metadata": {},
   "outputs": [],
   "source": [
    "def iteration_search(X, Y, Z, k, lr, ngram_type, epoch):\n",
    "\n",
    "    results = []\n",
    "    for lr_val in lr:\n",
    "        for num_val in ngram_type:\n",
    "            for epoch_val in epoch:  \n",
    "               \n",
    "                kf = KFold(n_splits=k, shuffle=True)\n",
    "                fold_results = []\n",
    "          \n",
    "                for train_index, test_index in kf.split(X):\n",
    "\n",
    "                    training_file = open('train_cv.txt','w')\n",
    "                    training_file.writelines(Z[train_index] + '\\n')\n",
    "                    training_file.close()\n",
    "\n",
    "                    model = fasttext.train_supervised('train_cv.txt',\n",
    "                                          lr=lr_val,\n",
    "                                          wordNgrams=num_val,\n",
    "                                          epoch=epoch_val)\n",
    "\n",
    "                    pred = model.predict(X[test_index].tolist())\n",
    "                    pred = pd.Series(pred[0]).apply(lambda x: re.sub('__label__', '', x[0]))\n",
    "\n",
    "                    fold_results.append(accuracy_score(Y[test_index], pred.values))\n",
    "\n",
    "                mean_acc = pd.Series(fold_results).mean()\n",
    "                results.append([lr_val, num_val, epoch_val, mean_acc])         \n",
    "\n",
    "    results = pd.DataFrame(results)\n",
    "    results.columns = ['lr','ngram_type','epoch','mean_acc']\n",
    "    return(results)"
   ]
  },
  {
   "cell_type": "code",
   "execution_count": 17,
   "metadata": {},
   "outputs": [],
   "source": [
    "# 10-fold CV\n",
    "results = iteration_search (X = train_data.Cleaned_Review, \n",
    "                     Y = train_data.Category,\n",
    "                     Z = train_data.labels_text,\n",
    "                     k = 10, \n",
    "                     lr = [0.1, 0.2, 0.3],\n",
    "                     ngram_type = [1,2,3],\n",
    "                     epoch = [15,17,20])"
   ]
  },
  {
   "cell_type": "code",
   "execution_count": 21,
   "metadata": {},
   "outputs": [
    {
     "data": {
      "text/html": [
       "<div>\n",
       "<style scoped>\n",
       "    .dataframe tbody tr th:only-of-type {\n",
       "        vertical-align: middle;\n",
       "    }\n",
       "\n",
       "    .dataframe tbody tr th {\n",
       "        vertical-align: top;\n",
       "    }\n",
       "\n",
       "    .dataframe thead th {\n",
       "        text-align: right;\n",
       "    }\n",
       "</style>\n",
       "<table border=\"1\" class=\"dataframe\">\n",
       "  <thead>\n",
       "    <tr style=\"text-align: right;\">\n",
       "      <th></th>\n",
       "      <th>lr</th>\n",
       "      <th>ngram_type</th>\n",
       "      <th>epoch</th>\n",
       "      <th>mean_acc</th>\n",
       "    </tr>\n",
       "  </thead>\n",
       "  <tbody>\n",
       "    <tr>\n",
       "      <th>13</th>\n",
       "      <td>0.2</td>\n",
       "      <td>2</td>\n",
       "      <td>17</td>\n",
       "      <td>0.566075</td>\n",
       "    </tr>\n",
       "    <tr>\n",
       "      <th>25</th>\n",
       "      <td>0.3</td>\n",
       "      <td>3</td>\n",
       "      <td>17</td>\n",
       "      <td>0.567329</td>\n",
       "    </tr>\n",
       "    <tr>\n",
       "      <th>5</th>\n",
       "      <td>0.1</td>\n",
       "      <td>2</td>\n",
       "      <td>20</td>\n",
       "      <td>0.567860</td>\n",
       "    </tr>\n",
       "  </tbody>\n",
       "</table>\n",
       "</div>"
      ],
      "text/plain": [
       "     lr  ngram_type  epoch  mean_acc\n",
       "13  0.2           2     17  0.566075\n",
       "25  0.3           3     17  0.567329\n",
       "5   0.1           2     20  0.567860"
      ]
     },
     "execution_count": 21,
     "metadata": {},
     "output_type": "execute_result"
    }
   ],
   "source": [
    "results.sort_values('mean_acc').tail(3)"
   ]
  },
  {
   "cell_type": "code",
   "execution_count": 22,
   "metadata": {},
   "outputs": [],
   "source": [
    "train_data['Category']= train_data['Category'].apply(lambda x: '__label__' + x)"
   ]
  },
  {
   "cell_type": "code",
   "execution_count": 23,
   "metadata": {},
   "outputs": [],
   "source": [
    "train_data[['Category', 'Cleaned_Review']].to_csv('train_1.txt', \n",
    "                                          index = False, \n",
    "                                          sep = ' ',\n",
    "                                          header = None, \n",
    "                                          quoting = csv.QUOTE_NONE, \n",
    "                                          quotechar = \"\", \n",
    "                                          escapechar = \" \")"
   ]
  },
  {
   "cell_type": "markdown",
   "metadata": {},
   "source": [
    "# Testing and Vote"
   ]
  },
  {
   "cell_type": "code",
   "execution_count": 24,
   "metadata": {},
   "outputs": [
    {
     "name": "stdout",
     "output_type": "stream",
     "text": [
      "CPU times: user 15.9 s, sys: 915 ms, total: 16.8 s\n",
      "Wall time: 4.04 s\n"
     ]
    }
   ],
   "source": [
    "%%time\n",
    "classifier1 = fasttext.train_supervised('train_1.txt', lr=0.20, wordNgrams=2, epoch=17)\n",
    "classifier2 = fasttext.train_supervised('train_1.txt', lr=0.30, wordNgrams=3, epoch=17)\n",
    "classifier3 = fasttext.train_supervised('train_1.txt', lr=0.10, wordNgrams=2, epoch=20)"
   ]
  },
  {
   "cell_type": "code",
   "execution_count": 25,
   "metadata": {},
   "outputs": [
    {
     "name": "stdout",
     "output_type": "stream",
     "text": [
      "CPU times: user 171 ms, sys: 25.8 ms, total: 197 ms\n",
      "Wall time: 178 ms\n"
     ]
    }
   ],
   "source": [
    "%%time\n",
    "predictions1 = classifier1.predict(test_data.Cleaned_Review.tolist())\n",
    "predictions2 = classifier2.predict(test_data.Cleaned_Review.tolist())\n",
    "predictions3 = classifier3.predict(test_data.Cleaned_Review.tolist())"
   ]
  },
  {
   "cell_type": "code",
   "execution_count": 26,
   "metadata": {},
   "outputs": [],
   "source": [
    "# Combine predictions\n",
    "majority_vote = np.array([])\n",
    "for i in range(len(predictions1[0])):\n",
    "    majority_vote = np.append(majority_vote, Counter([predictions1[0][i][0],\n",
    "                                                   predictions2[0][i][0],\n",
    "                                                   predictions3[0][i][0]]).most_common(1)[0][0])"
   ]
  },
  {
   "cell_type": "code",
   "execution_count": 27,
   "metadata": {},
   "outputs": [],
   "source": [
    "prediction = pd.DataFrame({'id': test_data.index, \n",
    "                       'Category': pd.Series(majority_vote)})\n",
    "prediction.Category = prediction.Category.apply(lambda x: re.sub('__label__', '', x))"
   ]
  },
  {
   "cell_type": "code",
   "execution_count": 28,
   "metadata": {},
   "outputs": [],
   "source": [
    "groundtruth = test_data.copy()\n",
    "groundtruth['id'] = groundtruth.index\n",
    "groundtruth.Category = groundtruth.Category.apply(lambda x: re.sub('__label__', '', x))"
   ]
  },
  {
   "cell_type": "code",
   "execution_count": 29,
   "metadata": {},
   "outputs": [
    {
     "name": "stdout",
     "output_type": "stream",
     "text": [
      "Precision: [0.93911249 0.55653451]\n",
      "Recall: [0.75082508 0.8652968 ]\n",
      "F1 score: [0.8344796  0.67739053]\n",
      "Support: [1212  438]\n"
     ]
    },
    {
     "data": {
      "text/plain": [
       "0.7812121212121212"
      ]
     },
     "execution_count": 29,
     "metadata": {},
     "output_type": "execute_result"
    }
   ],
   "source": [
    "precision, recall, fscore, support= score(groundtruth['Category'], prediction['Category'])\n",
    "print('Precision: {}'.format(precision))\n",
    "print('Recall: {}'.format(recall))\n",
    "print('F1 score: {}'.format(fscore))\n",
    "print('Support: {}'.format(support))\n",
    "accuracy_score(groundtruth.Category, prediction['Category'])"
   ]
  },
  {
   "cell_type": "code",
   "execution_count": null,
   "metadata": {},
   "outputs": [],
   "source": []
  }
 ],
 "metadata": {
  "kernelspec": {
   "display_name": "Python 3",
   "language": "python",
   "name": "python3"
  },
  "language_info": {
   "codemirror_mode": {
    "name": "ipython",
    "version": 3
   },
   "file_extension": ".py",
   "mimetype": "text/x-python",
   "name": "python",
   "nbconvert_exporter": "python",
   "pygments_lexer": "ipython3",
   "version": "3.8.5"
  }
 },
 "nbformat": 4,
 "nbformat_minor": 4
}
