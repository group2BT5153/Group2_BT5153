{
 "cells": [
  {
   "cell_type": "markdown",
   "metadata": {},
   "source": [
    "# Library Loading"
   ]
  },
  {
   "cell_type": "code",
   "execution_count": 7,
   "metadata": {},
   "outputs": [],
   "source": [
    "#Core\n",
    "import pandas as pd\n",
    "import numpy as np\n",
    "\n",
    "#Language Detection\n",
    "from langdetect import detect\n",
    "\n",
    "#Noise Removal\n",
    "import string\n",
    "import re\n",
    "import contractions\n",
    "import nltk\n",
    "from nltk.corpus import stopwords\n",
    "from nltk.stem.wordnet import WordNetLemmatizer\n",
    "\n",
    "#display adjust\n",
    "pd.set_option(\"display.max_columns\", 1000)\n",
    "pd.set_option(\"display.max_rows\", 1000)\n",
    "import warnings\n",
    "warnings.filterwarnings(\"ignore\")\n",
    "from datetime import datetime"
   ]
  },
  {
   "cell_type": "markdown",
   "metadata": {},
   "source": [
    "# Data Loading"
   ]
  },
  {
   "cell_type": "code",
   "execution_count": 2,
   "metadata": {},
   "outputs": [],
   "source": [
    "df_kaggle = pd.read_csv('Britannia_Kaggle.csv')\n",
    "df_booking = pd.read_csv('Britannia_Booking.csv')\n",
    "df_tripadvisor = pd.read_csv('Britannia_Tripadvisor.csv')"
   ]
  },
  {
   "cell_type": "code",
   "execution_count": 3,
   "metadata": {},
   "outputs": [],
   "source": [
    "df_booking['Review_date'] = df_booking['Review_date'].str.split(':').str[1]"
   ]
  },
  {
   "cell_type": "code",
   "execution_count": 14,
   "metadata": {},
   "outputs": [],
   "source": [
    "df_booking['Review_date'] = pd.to_datetime(df_booking['Review_date'])"
   ]
  },
  {
   "cell_type": "code",
   "execution_count": 16,
   "metadata": {},
   "outputs": [],
   "source": [
    "df_booking['Date_stayed'] = df_booking['Date_stayed'].str.split(' · ').str[0]"
   ]
  },
  {
   "cell_type": "code",
   "execution_count": 17,
   "metadata": {},
   "outputs": [],
   "source": [
    "df_kaggle['Tags'] = df_kaggle['Tags'].str.replace('[', '')\n",
    "df_kaggle['Tags'] = df_kaggle['Tags'].str.replace(']', '')\n",
    "df_kaggle['Tags'] = df_kaggle['Tags'].str.replace(\"'\", \"\")\n",
    "df_kaggle['Tags'] = df_kaggle['Tags'].str.split(',')"
   ]
  },
  {
   "cell_type": "code",
   "execution_count": 18,
   "metadata": {},
   "outputs": [],
   "source": [
    "Aggregate = pd.DataFrame(columns = ['Review_Date','Reviewer_Nationality',\n",
    "                                    'Room_stayed','Length_stayed','Trip_type'\n",
    "                                   'Positive_Review','Negative_Review',\n",
    "                                   'Condense_Positive_Review','Condense_Negative_Review'])"
   ]
  },
  {
   "cell_type": "code",
   "execution_count": 19,
   "metadata": {},
   "outputs": [],
   "source": [
    "Review_Date = df_booking['Review_date']\n",
    "Reviewer_Nationality = df_booking['Country']\n",
    "Room_stayed = df_booking['Room_stayed']\n",
    "Length_stayed = df_booking['Date_stayed']\n",
    "Trip_type = df_booking['Trip_type']\n",
    "Positive_Review = df_booking['Positive']\n",
    "Negative_Review = df_booking['Negative']\n",
    "Condense_Positive_Review = df_booking['Cleaned_Positive']\n",
    "Condense_Negative_Review = df_booking['Cleaned_Negative']"
   ]
  },
  {
   "cell_type": "code",
   "execution_count": 20,
   "metadata": {},
   "outputs": [],
   "source": [
    "df_kaggle['Room_stayed'] = None\n",
    "df_kaggle['Date_stayed']= None\n",
    "df_kaggle['Trip_type']= None\n",
    "for i in range(len(df_kaggle)):\n",
    "    try:\n",
    "        df_kaggle['Room_stayed'][i] =  df_kaggle['Tags'][i][2]\n",
    "        df_kaggle['Date_stayed'][i] = df_kaggle['Tags'][i][3]\n",
    "        df_kaggle['Trip_type'][i] = df_kaggle['Tags'][i][0]\n",
    "    except:\n",
    "        pass"
   ]
  },
  {
   "cell_type": "code",
   "execution_count": 21,
   "metadata": {},
   "outputs": [
    {
     "data": {
      "text/plain": [
       "0                         cig box room think forget clean\n",
       "1       dirty windows dead bug find bath also heat not...\n",
       "2                                                     NaN\n",
       "3       first room give not clean notify staff change ...\n",
       "4                                                     NaN\n",
       "                              ...                        \n",
       "3598                                             negative\n",
       "3599                                 concierge uninformed\n",
       "3600                                           complaints\n",
       "3601    really shabby run hotel need total refurbish j...\n",
       "3602    stain carpet peel wallpaper scruffy scuff bedr...\n",
       "Length: 17496, dtype: object"
      ]
     },
     "execution_count": 21,
     "metadata": {},
     "output_type": "execute_result"
    }
   ],
   "source": [
    "Review_Date.append(df_kaggle['Review_Date'])\n",
    "Reviewer_Nationality.append(df_kaggle['Reviewer_Nationality'])\n",
    "Room_stayed.append(df_kaggle['Room_stayed'])\n",
    "Length_stayed.append(df_kaggle['Date_stayed'])\n",
    "Trip_type.append(df_kaggle['Trip_type'])\n",
    "Positive_Review.append(df_kaggle['Positive_Review'])\n",
    "Negative_Review.append(df_kaggle['Negative_Review'])\n",
    "Condense_Positive_Review.append(df_kaggle['Cleaned_Positive_Review'])\n",
    "Condense_Negative_Review.append(df_kaggle['Cleaned_Negative_Review'])"
   ]
  },
  {
   "cell_type": "code",
   "execution_count": 22,
   "metadata": {},
   "outputs": [],
   "source": [
    "Aggregate['Review_Date'] = Review_Date\n",
    "Aggregate['Reviewer_Nationality'] = Reviewer_Nationality\n",
    "Aggregate['Room_stayed'] = Room_stayed\n",
    "Aggregate['Length_stayed'] = Length_stayed\n",
    "Aggregate['Trip_type']= Trip_type\n",
    "Aggregate['Positive_Review']= Positive_Review\n",
    "Aggregate['Negative_Review']= Negative_Review\n",
    "Aggregate['Condense_Positive_Review']= Condense_Positive_Review\n",
    "Aggregate['Condense_Negative_Review'] = Condense_Negative_Review"
   ]
  },
  {
   "cell_type": "markdown",
   "metadata": {},
   "source": [
    "# TOPIC MODELLING"
   ]
  },
  {
   "cell_type": "code",
   "execution_count": 23,
   "metadata": {},
   "outputs": [],
   "source": [
    "'''Spacy'''\n",
    "import spacy\n",
    "from spacy.matcher import PhraseMatcher\n",
    "nlp = spacy.load(\"en_core_web_sm\")\n",
    "\n",
    "'''Embedding and Pipeline'''\n",
    "from sklearn.feature_extraction.text import TfidfVectorizer\n",
    "from sklearn.decomposition import NMF\n",
    "from sklearn.pipeline import make_pipeline\n",
    "from sklearn.decomposition import LatentDirichletAllocation"
   ]
  },
  {
   "cell_type": "code",
   "execution_count": 24,
   "metadata": {},
   "outputs": [],
   "source": [
    "stoplist =['not','like','work','need',\n",
    "           'really','nan','nothing',\n",
    "           'dislike','every','thing',\n",
    "           'think','anything',\n",
    "          'bite','tire','everything', 'perfect','ok']"
   ]
  },
  {
   "cell_type": "code",
   "execution_count": 25,
   "metadata": {},
   "outputs": [],
   "source": [
    "df = Aggregate[Aggregate['Condense_Negative_Review'].notna()].reset_index()"
   ]
  },
  {
   "cell_type": "code",
   "execution_count": 26,
   "metadata": {},
   "outputs": [
    {
     "data": {
      "text/plain": [
       "Pipeline(steps=[('tfidfvectorizer',\n",
       "                 TfidfVectorizer(ngram_range=(2, 4),\n",
       "                                 stop_words=['not', 'like', 'work', 'need',\n",
       "                                             'really', 'nan', 'nothing',\n",
       "                                             'dislike', 'every', 'thing',\n",
       "                                             'think', 'anything', 'bite',\n",
       "                                             'tire', 'everything', 'perfect',\n",
       "                                             'ok'])),\n",
       "                ('latentdirichletallocation',\n",
       "                 LatentDirichletAllocation(n_components=15))])"
      ]
     },
     "execution_count": 26,
     "metadata": {},
     "output_type": "execute_result"
    }
   ],
   "source": [
    "tfidf_vectorizer = TfidfVectorizer(stop_words=stoplist,ngram_range=(2,4))\n",
    "lda = LatentDirichletAllocation(n_components=15)\n",
    "pipe = make_pipeline(tfidf_vectorizer, lda)\n",
    "pipe.fit(df['Condense_Negative_Review'])"
   ]
  },
  {
   "cell_type": "code",
   "execution_count": 27,
   "metadata": {},
   "outputs": [
    {
     "data": {
      "text/plain": [
       "['Topic #0: decor update',\n",
       " 'Topic #1: room window',\n",
       " 'Topic #2: decor date',\n",
       " 'Topic #3: bed comfortable',\n",
       " 'Topic #4: bed uncomfortable',\n",
       " 'Topic #5: room cold',\n",
       " 'Topic #6: room clean',\n",
       " 'Topic #7: free wifi',\n",
       " 'Topic #8: staff rude',\n",
       " 'Topic #9: park free',\n",
       " 'Topic #10: room refurbish',\n",
       " 'Topic #11: room noisy',\n",
       " 'Topic #12: room date',\n",
       " 'Topic #13: room update',\n",
       " 'Topic #14: pay wifi']"
      ]
     },
     "execution_count": 27,
     "metadata": {},
     "output_type": "execute_result"
    }
   ],
   "source": [
    "def print_top_words(model, feature_names, n_top_words):\n",
    "    phrases = []\n",
    "    for topic_idx, topic in enumerate(model.components_):\n",
    "        message = \"Topic #%d: \" % topic_idx\n",
    "        message += \", \".join([feature_names[i]\n",
    "                             for i in topic.argsort()[:-n_top_words - 1:-1]])\n",
    "        phrases.append(message)\n",
    "        #print(message)\n",
    "    #print(phrases)\n",
    "    return phrases\n",
    "phrases = print_top_words(lda, tfidf_vectorizer.get_feature_names(), n_top_words=1)\n",
    "phrases"
   ]
  },
  {
   "cell_type": "code",
   "execution_count": 28,
   "metadata": {},
   "outputs": [],
   "source": [
    "condense_phrases = ['decor','wifi','room','breakfast','bed','pool','park','staff','air','price']"
   ]
  },
  {
   "cell_type": "code",
   "execution_count": 29,
   "metadata": {},
   "outputs": [],
   "source": [
    "def take_string(text):\n",
    "    return text.split(\": \",1)[1]\n",
    "\n",
    "for i in range(len(phrases)):\n",
    "    phrases[i] = take_string(phrases[i])"
   ]
  },
  {
   "cell_type": "code",
   "execution_count": 30,
   "metadata": {},
   "outputs": [],
   "source": [
    "def get_matches(my_text):\n",
    "    sentence = nlp(my_text)\n",
    "    topic = []\n",
    "    for phrase in phrases:\n",
    "        phrase = phrase.split()\n",
    "        patterns = [nlp(text) for text in phrase]\n",
    "        phrase_matcher = PhraseMatcher(nlp.vocab)\n",
    "        phrase_matcher.add('AI', None, *patterns)\n",
    "        matched_phrases = phrase_matcher(sentence)\n",
    "        if len(matched_phrases) > 0:\n",
    "            topic.append(\" \".join(phrase))\n",
    "        else:\n",
    "            pass\n",
    "    return topic"
   ]
  },
  {
   "cell_type": "code",
   "execution_count": 31,
   "metadata": {},
   "outputs": [
    {
     "data": {
      "text/html": [
       "<div>\n",
       "<style scoped>\n",
       "    .dataframe tbody tr th:only-of-type {\n",
       "        vertical-align: middle;\n",
       "    }\n",
       "\n",
       "    .dataframe tbody tr th {\n",
       "        vertical-align: top;\n",
       "    }\n",
       "\n",
       "    .dataframe thead th {\n",
       "        text-align: right;\n",
       "    }\n",
       "</style>\n",
       "<table border=\"1\" class=\"dataframe\">\n",
       "  <thead>\n",
       "    <tr style=\"text-align: right;\">\n",
       "      <th></th>\n",
       "      <th>index</th>\n",
       "      <th>Review_Date</th>\n",
       "      <th>Reviewer_Nationality</th>\n",
       "      <th>Room_stayed</th>\n",
       "      <th>Length_stayed</th>\n",
       "      <th>Trip_typePositive_Review</th>\n",
       "      <th>Negative_Review</th>\n",
       "      <th>Condense_Positive_Review</th>\n",
       "      <th>Condense_Negative_Review</th>\n",
       "      <th>Trip_type</th>\n",
       "      <th>Positive_Review</th>\n",
       "      <th>Topics</th>\n",
       "    </tr>\n",
       "  </thead>\n",
       "  <tbody>\n",
       "    <tr>\n",
       "      <th>0</th>\n",
       "      <td>0</td>\n",
       "      <td>2020-08-17</td>\n",
       "      <td>India</td>\n",
       "      <td>Standard Double Room without Window</td>\n",
       "      <td>1 night</td>\n",
       "      <td>NaN</td>\n",
       "      <td>There was cig box in the room which i think th...</td>\n",
       "      <td>room quality hotel staff bar</td>\n",
       "      <td>cig box room think forget clean</td>\n",
       "      <td>Solo traveler</td>\n",
       "      <td>Room quality.. hotel staff.. the bar..</td>\n",
       "      <td>Others</td>\n",
       "    </tr>\n",
       "    <tr>\n",
       "      <th>1</th>\n",
       "      <td>1</td>\n",
       "      <td>2021-02-13</td>\n",
       "      <td>United Kingdom</td>\n",
       "      <td>Standard Double Room</td>\n",
       "      <td>1 night</td>\n",
       "      <td>NaN</td>\n",
       "      <td>Dirty windows and dead bug found in the bath a...</td>\n",
       "      <td>bed size room bath tub feature bathroom location</td>\n",
       "      <td>dirty windows dead bug find bath also heat not...</td>\n",
       "      <td>Couple</td>\n",
       "      <td>The bed, size of room, the bath tub feature in...</td>\n",
       "      <td>Others</td>\n",
       "    </tr>\n",
       "  </tbody>\n",
       "</table>\n",
       "</div>"
      ],
      "text/plain": [
       "   index Review_Date Reviewer_Nationality  \\\n",
       "0      0  2020-08-17                India   \n",
       "1      1  2021-02-13       United Kingdom   \n",
       "\n",
       "                           Room_stayed Length_stayed Trip_typePositive_Review  \\\n",
       "0  Standard Double Room without Window       1 night                      NaN   \n",
       "1                 Standard Double Room       1 night                      NaN   \n",
       "\n",
       "                                     Negative_Review  \\\n",
       "0  There was cig box in the room which i think th...   \n",
       "1  Dirty windows and dead bug found in the bath a...   \n",
       "\n",
       "                           Condense_Positive_Review  \\\n",
       "0                      room quality hotel staff bar   \n",
       "1  bed size room bath tub feature bathroom location   \n",
       "\n",
       "                            Condense_Negative_Review      Trip_type  \\\n",
       "0                    cig box room think forget clean  Solo traveler   \n",
       "1  dirty windows dead bug find bath also heat not...         Couple   \n",
       "\n",
       "                                     Positive_Review  Topics  \n",
       "0             Room quality.. hotel staff.. the bar..  Others  \n",
       "1  The bed, size of room, the bath tub feature in...  Others  "
      ]
     },
     "execution_count": 31,
     "metadata": {},
     "output_type": "execute_result"
    }
   ],
   "source": [
    "df['Topics'] = 'Others'\n",
    "df.head(2)"
   ]
  },
  {
   "cell_type": "code",
   "execution_count": 32,
   "metadata": {},
   "outputs": [],
   "source": [
    "for i in range(len(df)):\n",
    "    df['Topics'].iloc[i] = get_matches(df['Condense_Negative_Review'].iloc[i])"
   ]
  },
  {
   "cell_type": "code",
   "execution_count": 33,
   "metadata": {},
   "outputs": [],
   "source": [
    "for i in range(len(df)):\n",
    "    if len(df['Topics'].iloc[i]) == 0:\n",
    "        df['Topics'].iloc[i] = 'Others'\n",
    "    else:\n",
    "        pass"
   ]
  },
  {
   "cell_type": "markdown",
   "metadata": {},
   "source": [
    "# Customized Search"
   ]
  },
  {
   "cell_type": "code",
   "execution_count": 34,
   "metadata": {},
   "outputs": [],
   "source": [
    "condense_phrases = ['decor','wifi','room','breakfast','bed','pool','park','staff','air','price']"
   ]
  },
  {
   "cell_type": "code",
   "execution_count": 35,
   "metadata": {},
   "outputs": [],
   "source": [
    "def get_matches(my_text):\n",
    "    sentence = nlp(my_text)\n",
    "    topic = []\n",
    "    for i in range(len(condense_phrases)):\n",
    "        phrase = condense_phrases[i]\n",
    "        patterns = nlp(phrase)\n",
    "        phrase_matcher = PhraseMatcher(nlp.vocab)\n",
    "        phrase_matcher.add('AI', None, patterns)\n",
    "        matched_phrases = phrase_matcher(sentence)\n",
    "        if len(matched_phrases) > 0:\n",
    "            topic.append(phrase)\n",
    "        else:\n",
    "            pass\n",
    "    return topic"
   ]
  },
  {
   "cell_type": "markdown",
   "metadata": {},
   "source": [
    "## Data for Dashboard"
   ]
  },
  {
   "cell_type": "code",
   "execution_count": 36,
   "metadata": {},
   "outputs": [],
   "source": [
    "df['Cleaned_Topic'] = 'Others'\n",
    "\n",
    "for i in range(len(df)):\n",
    "    df['Cleaned_Topic'].iloc[i] = get_matches(df['Condense_Negative_Review'].iloc[i])"
   ]
  },
  {
   "cell_type": "code",
   "execution_count": 37,
   "metadata": {},
   "outputs": [],
   "source": [
    "for i in range(len(df)):\n",
    "    if len(df['Cleaned_Topic'].iloc[i]) == 0:\n",
    "        df['Cleaned_Topic'].iloc[i] = 'Others'\n",
    "    else:\n",
    "        pass"
   ]
  },
  {
   "cell_type": "code",
   "execution_count": 38,
   "metadata": {},
   "outputs": [
    {
     "data": {
      "text/plain": [
       "'show photo id not make clear arrival'"
      ]
     },
     "execution_count": 38,
     "metadata": {},
     "output_type": "execute_result"
    }
   ],
   "source": [
    "df['Condense_Negative_Review'][8]"
   ]
  },
  {
   "cell_type": "code",
   "execution_count": 39,
   "metadata": {},
   "outputs": [
    {
     "data": {
      "text/plain": [
       "'Others'"
      ]
     },
     "execution_count": 39,
     "metadata": {},
     "output_type": "execute_result"
    }
   ],
   "source": [
    "df['Cleaned_Topic'][8]"
   ]
  },
  {
   "cell_type": "code",
   "execution_count": 40,
   "metadata": {},
   "outputs": [],
   "source": [
    "df.to_csv('Data POC.csv')"
   ]
  },
  {
   "cell_type": "code",
   "execution_count": null,
   "metadata": {},
   "outputs": [],
   "source": []
  }
 ],
 "metadata": {
  "kernelspec": {
   "display_name": "Python 3",
   "language": "python",
   "name": "python3"
  },
  "language_info": {
   "codemirror_mode": {
    "name": "ipython",
    "version": 3
   },
   "file_extension": ".py",
   "mimetype": "text/x-python",
   "name": "python",
   "nbconvert_exporter": "python",
   "pygments_lexer": "ipython3",
   "version": "3.8.5"
  }
 },
 "nbformat": 4,
 "nbformat_minor": 4
}
